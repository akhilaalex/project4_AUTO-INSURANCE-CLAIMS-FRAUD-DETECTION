{
 "cells": [
  {
   "cell_type": "code",
   "execution_count": 142,
   "id": "9c12ee50",
   "metadata": {},
   "outputs": [],
   "source": [
    "#Import pandas, matplotlib.pyplot, and seaborn \n",
    "import pandas as pd\n",
    "import matplotlib.pyplot as plt\n",
    "import seaborn as sns\n",
    "import statsmodels.api as sm\n",
    "import numpy as np\n",
    "\n",
    "\n",
    "#since alt can only handle 5000 items by default setting( we got the error message below) \n",
    "#we applied the codes so that it can handle larger dataset\n",
    "#MaxRowsError: The number of rows in your dataset is greater than the maximum allowed (5000). \n",
    "# For information on how to plot larger datasets in Altair, see the documentation\"\n",
    "import altair as alt\n",
    "alt.data_transformers.enable('data_server')\n",
    "#pip install altair_data_server\n",
    "\n",
    "from sklearn.metrics import confusion_matrix\n",
    "\n",
    "from sklearn.preprocessing import StandardScaler \n",
    "from sklearn.ensemble import RandomForestRegressor\n",
    "from sklearn.metrics import mean_absolute_error\n",
    "from sklearn.model_selection import train_test_split\n",
    "from sklearn.preprocessing import LabelEncoder\n",
    "from sklearn.metrics import r2_score\n",
    "from sklearn.metrics import mean_squared_error\n",
    "from scipy.stats import kstest\n",
    "from sklearn.feature_selection import SelectKBest\n",
    "from sklearn.feature_selection import f_regression\n",
    "\n",
    "from sklearn.metrics import max_error\n",
    "from sklearn.metrics import roc_auc_score\n",
    "from sklearn.metrics import roc_curve\n",
    "\n",
    "from sklearn.linear_model import LogisticRegression\n",
    "from sklearn.metrics import accuracy_score\n",
    "from statsmodels.formula.api import logit\n",
    "\n",
    "from mlxtend.plotting import plot_decision_regions\n",
    "\n",
    "from statsmodels.formula.api import logit\n",
    "from IPython.display import display\n",
    "\n",
    "from sklearn.metrics import confusion_matrix\n",
    "from sklearn.metrics import classification_report"
   ]
  },
  {
   "cell_type": "code",
   "execution_count": 140,
   "id": "31cd65ef",
   "metadata": {},
   "outputs": [
    {
     "name": "stdout",
     "output_type": "stream",
     "text": [
      "Requirement already satisfied: mlxtend in c:\\users\\akhil\\anaconda3\\lib\\site-packages (0.21.0)\n",
      "Requirement already satisfied: joblib>=0.13.2 in c:\\users\\akhil\\anaconda3\\lib\\site-packages (from mlxtend) (1.1.0)\n",
      "Requirement already satisfied: scipy>=1.2.1 in c:\\users\\akhil\\anaconda3\\lib\\site-packages (from mlxtend) (1.9.1)\n",
      "Requirement already satisfied: pandas>=0.24.2 in c:\\users\\akhil\\anaconda3\\lib\\site-packages (from mlxtend) (1.4.4)\n",
      "Requirement already satisfied: setuptools in c:\\users\\akhil\\anaconda3\\lib\\site-packages (from mlxtend) (63.4.1)\n",
      "Requirement already satisfied: numpy>=1.16.2 in c:\\users\\akhil\\anaconda3\\lib\\site-packages (from mlxtend) (1.21.5)\n",
      "Requirement already satisfied: scikit-learn>=1.0.2 in c:\\users\\akhil\\anaconda3\\lib\\site-packages (from mlxtend) (1.0.2)\n",
      "Requirement already satisfied: matplotlib>=3.0.0 in c:\\users\\akhil\\anaconda3\\lib\\site-packages (from mlxtend) (3.5.2)\n",
      "Requirement already satisfied: python-dateutil>=2.7 in c:\\users\\akhil\\anaconda3\\lib\\site-packages (from matplotlib>=3.0.0->mlxtend) (2.8.2)\n",
      "Requirement already satisfied: pillow>=6.2.0 in c:\\users\\akhil\\anaconda3\\lib\\site-packages (from matplotlib>=3.0.0->mlxtend) (9.2.0)\n",
      "Requirement already satisfied: kiwisolver>=1.0.1 in c:\\users\\akhil\\anaconda3\\lib\\site-packages (from matplotlib>=3.0.0->mlxtend) (1.4.2)\n",
      "Requirement already satisfied: packaging>=20.0 in c:\\users\\akhil\\anaconda3\\lib\\site-packages (from matplotlib>=3.0.0->mlxtend) (21.3)\n",
      "Requirement already satisfied: fonttools>=4.22.0 in c:\\users\\akhil\\anaconda3\\lib\\site-packages (from matplotlib>=3.0.0->mlxtend) (4.25.0)\n",
      "Requirement already satisfied: pyparsing>=2.2.1 in c:\\users\\akhil\\anaconda3\\lib\\site-packages (from matplotlib>=3.0.0->mlxtend) (3.0.9)\n",
      "Requirement already satisfied: cycler>=0.10 in c:\\users\\akhil\\anaconda3\\lib\\site-packages (from matplotlib>=3.0.0->mlxtend) (0.11.0)\n",
      "Requirement already satisfied: pytz>=2020.1 in c:\\users\\akhil\\anaconda3\\lib\\site-packages (from pandas>=0.24.2->mlxtend) (2022.1)\n",
      "Requirement already satisfied: threadpoolctl>=2.0.0 in c:\\users\\akhil\\anaconda3\\lib\\site-packages (from scikit-learn>=1.0.2->mlxtend) (2.2.0)\n",
      "Requirement already satisfied: six>=1.5 in c:\\users\\akhil\\anaconda3\\lib\\site-packages (from python-dateutil>=2.7->matplotlib>=3.0.0->mlxtend) (1.16.0)\n"
     ]
    }
   ],
   "source": [
    "!pip install mlxtend\n"
   ]
  },
  {
   "cell_type": "markdown",
   "id": "5ed6371a",
   "metadata": {},
   "source": [
    "# The objectives of this project is to determine the variables leading to fraudulent transactions in auto claims"
   ]
  },
  {
   "cell_type": "code",
   "execution_count": 74,
   "id": "905af168",
   "metadata": {},
   "outputs": [
    {
     "data": {
      "text/html": [
       "<div>\n",
       "<style scoped>\n",
       "    .dataframe tbody tr th:only-of-type {\n",
       "        vertical-align: middle;\n",
       "    }\n",
       "\n",
       "    .dataframe tbody tr th {\n",
       "        vertical-align: top;\n",
       "    }\n",
       "\n",
       "    .dataframe thead th {\n",
       "        text-align: right;\n",
       "    }\n",
       "</style>\n",
       "<table border=\"1\" class=\"dataframe\">\n",
       "  <thead>\n",
       "    <tr style=\"text-align: right;\">\n",
       "      <th></th>\n",
       "      <th>Month</th>\n",
       "      <th>WeekOfMonth</th>\n",
       "      <th>DayOfWeek</th>\n",
       "      <th>Make</th>\n",
       "      <th>AccidentArea</th>\n",
       "      <th>DayOfWeekClaimed</th>\n",
       "      <th>MonthClaimed</th>\n",
       "      <th>WeekOfMonthClaimed</th>\n",
       "      <th>Sex</th>\n",
       "      <th>MaritalStatus</th>\n",
       "      <th>...</th>\n",
       "      <th>AgeOfVehicle</th>\n",
       "      <th>AgeOfPolicyHolder</th>\n",
       "      <th>PoliceReportFiled</th>\n",
       "      <th>WitnessPresent</th>\n",
       "      <th>AgentType</th>\n",
       "      <th>NumberOfSuppliments</th>\n",
       "      <th>AddressChange_Claim</th>\n",
       "      <th>NumberOfCars</th>\n",
       "      <th>Year</th>\n",
       "      <th>BasePolicy</th>\n",
       "    </tr>\n",
       "  </thead>\n",
       "  <tbody>\n",
       "    <tr>\n",
       "      <th>0</th>\n",
       "      <td>Dec</td>\n",
       "      <td>5</td>\n",
       "      <td>Wednesday</td>\n",
       "      <td>Honda</td>\n",
       "      <td>Urban</td>\n",
       "      <td>Tuesday</td>\n",
       "      <td>Jan</td>\n",
       "      <td>1</td>\n",
       "      <td>Female</td>\n",
       "      <td>Single</td>\n",
       "      <td>...</td>\n",
       "      <td>3 years</td>\n",
       "      <td>26 to 30</td>\n",
       "      <td>No</td>\n",
       "      <td>No</td>\n",
       "      <td>External</td>\n",
       "      <td>none</td>\n",
       "      <td>1 year</td>\n",
       "      <td>3 to 4</td>\n",
       "      <td>1994</td>\n",
       "      <td>Liability</td>\n",
       "    </tr>\n",
       "    <tr>\n",
       "      <th>1</th>\n",
       "      <td>Jan</td>\n",
       "      <td>3</td>\n",
       "      <td>Wednesday</td>\n",
       "      <td>Honda</td>\n",
       "      <td>Urban</td>\n",
       "      <td>Monday</td>\n",
       "      <td>Jan</td>\n",
       "      <td>4</td>\n",
       "      <td>Male</td>\n",
       "      <td>Single</td>\n",
       "      <td>...</td>\n",
       "      <td>6 years</td>\n",
       "      <td>31 to 35</td>\n",
       "      <td>Yes</td>\n",
       "      <td>No</td>\n",
       "      <td>External</td>\n",
       "      <td>none</td>\n",
       "      <td>no change</td>\n",
       "      <td>1 vehicle</td>\n",
       "      <td>1994</td>\n",
       "      <td>Collision</td>\n",
       "    </tr>\n",
       "    <tr>\n",
       "      <th>2</th>\n",
       "      <td>Oct</td>\n",
       "      <td>5</td>\n",
       "      <td>Friday</td>\n",
       "      <td>Honda</td>\n",
       "      <td>Urban</td>\n",
       "      <td>Thursday</td>\n",
       "      <td>Nov</td>\n",
       "      <td>2</td>\n",
       "      <td>Male</td>\n",
       "      <td>Married</td>\n",
       "      <td>...</td>\n",
       "      <td>7 years</td>\n",
       "      <td>41 to 50</td>\n",
       "      <td>No</td>\n",
       "      <td>No</td>\n",
       "      <td>External</td>\n",
       "      <td>none</td>\n",
       "      <td>no change</td>\n",
       "      <td>1 vehicle</td>\n",
       "      <td>1994</td>\n",
       "      <td>Collision</td>\n",
       "    </tr>\n",
       "    <tr>\n",
       "      <th>3</th>\n",
       "      <td>Jun</td>\n",
       "      <td>2</td>\n",
       "      <td>Saturday</td>\n",
       "      <td>Toyota</td>\n",
       "      <td>Rural</td>\n",
       "      <td>Friday</td>\n",
       "      <td>Jul</td>\n",
       "      <td>1</td>\n",
       "      <td>Male</td>\n",
       "      <td>Married</td>\n",
       "      <td>...</td>\n",
       "      <td>more than 7</td>\n",
       "      <td>51 to 65</td>\n",
       "      <td>Yes</td>\n",
       "      <td>No</td>\n",
       "      <td>External</td>\n",
       "      <td>more than 5</td>\n",
       "      <td>no change</td>\n",
       "      <td>1 vehicle</td>\n",
       "      <td>1994</td>\n",
       "      <td>Liability</td>\n",
       "    </tr>\n",
       "    <tr>\n",
       "      <th>4</th>\n",
       "      <td>Jan</td>\n",
       "      <td>5</td>\n",
       "      <td>Monday</td>\n",
       "      <td>Honda</td>\n",
       "      <td>Urban</td>\n",
       "      <td>Tuesday</td>\n",
       "      <td>Feb</td>\n",
       "      <td>2</td>\n",
       "      <td>Female</td>\n",
       "      <td>Single</td>\n",
       "      <td>...</td>\n",
       "      <td>5 years</td>\n",
       "      <td>31 to 35</td>\n",
       "      <td>No</td>\n",
       "      <td>No</td>\n",
       "      <td>External</td>\n",
       "      <td>none</td>\n",
       "      <td>no change</td>\n",
       "      <td>1 vehicle</td>\n",
       "      <td>1994</td>\n",
       "      <td>Collision</td>\n",
       "    </tr>\n",
       "    <tr>\n",
       "      <th>...</th>\n",
       "      <td>...</td>\n",
       "      <td>...</td>\n",
       "      <td>...</td>\n",
       "      <td>...</td>\n",
       "      <td>...</td>\n",
       "      <td>...</td>\n",
       "      <td>...</td>\n",
       "      <td>...</td>\n",
       "      <td>...</td>\n",
       "      <td>...</td>\n",
       "      <td>...</td>\n",
       "      <td>...</td>\n",
       "      <td>...</td>\n",
       "      <td>...</td>\n",
       "      <td>...</td>\n",
       "      <td>...</td>\n",
       "      <td>...</td>\n",
       "      <td>...</td>\n",
       "      <td>...</td>\n",
       "      <td>...</td>\n",
       "      <td>...</td>\n",
       "    </tr>\n",
       "    <tr>\n",
       "      <th>15415</th>\n",
       "      <td>Nov</td>\n",
       "      <td>4</td>\n",
       "      <td>Friday</td>\n",
       "      <td>Toyota</td>\n",
       "      <td>Urban</td>\n",
       "      <td>Tuesday</td>\n",
       "      <td>Nov</td>\n",
       "      <td>5</td>\n",
       "      <td>Male</td>\n",
       "      <td>Married</td>\n",
       "      <td>...</td>\n",
       "      <td>6 years</td>\n",
       "      <td>31 to 35</td>\n",
       "      <td>No</td>\n",
       "      <td>No</td>\n",
       "      <td>External</td>\n",
       "      <td>none</td>\n",
       "      <td>no change</td>\n",
       "      <td>1 vehicle</td>\n",
       "      <td>1996</td>\n",
       "      <td>Collision</td>\n",
       "    </tr>\n",
       "    <tr>\n",
       "      <th>15416</th>\n",
       "      <td>Nov</td>\n",
       "      <td>5</td>\n",
       "      <td>Thursday</td>\n",
       "      <td>Pontiac</td>\n",
       "      <td>Urban</td>\n",
       "      <td>Friday</td>\n",
       "      <td>Dec</td>\n",
       "      <td>1</td>\n",
       "      <td>Male</td>\n",
       "      <td>Married</td>\n",
       "      <td>...</td>\n",
       "      <td>6 years</td>\n",
       "      <td>31 to 35</td>\n",
       "      <td>No</td>\n",
       "      <td>No</td>\n",
       "      <td>External</td>\n",
       "      <td>more than 5</td>\n",
       "      <td>no change</td>\n",
       "      <td>3 to 4</td>\n",
       "      <td>1996</td>\n",
       "      <td>Liability</td>\n",
       "    </tr>\n",
       "    <tr>\n",
       "      <th>15417</th>\n",
       "      <td>Nov</td>\n",
       "      <td>5</td>\n",
       "      <td>Thursday</td>\n",
       "      <td>Toyota</td>\n",
       "      <td>Rural</td>\n",
       "      <td>Friday</td>\n",
       "      <td>Dec</td>\n",
       "      <td>1</td>\n",
       "      <td>Male</td>\n",
       "      <td>Single</td>\n",
       "      <td>...</td>\n",
       "      <td>5 years</td>\n",
       "      <td>26 to 30</td>\n",
       "      <td>No</td>\n",
       "      <td>No</td>\n",
       "      <td>External</td>\n",
       "      <td>1 to 2</td>\n",
       "      <td>no change</td>\n",
       "      <td>1 vehicle</td>\n",
       "      <td>1996</td>\n",
       "      <td>Collision</td>\n",
       "    </tr>\n",
       "    <tr>\n",
       "      <th>15418</th>\n",
       "      <td>Dec</td>\n",
       "      <td>1</td>\n",
       "      <td>Monday</td>\n",
       "      <td>Toyota</td>\n",
       "      <td>Urban</td>\n",
       "      <td>Thursday</td>\n",
       "      <td>Dec</td>\n",
       "      <td>2</td>\n",
       "      <td>Female</td>\n",
       "      <td>Married</td>\n",
       "      <td>...</td>\n",
       "      <td>2 years</td>\n",
       "      <td>31 to 35</td>\n",
       "      <td>No</td>\n",
       "      <td>No</td>\n",
       "      <td>External</td>\n",
       "      <td>more than 5</td>\n",
       "      <td>no change</td>\n",
       "      <td>1 vehicle</td>\n",
       "      <td>1996</td>\n",
       "      <td>All Perils</td>\n",
       "    </tr>\n",
       "    <tr>\n",
       "      <th>15419</th>\n",
       "      <td>Dec</td>\n",
       "      <td>2</td>\n",
       "      <td>Wednesday</td>\n",
       "      <td>Toyota</td>\n",
       "      <td>Urban</td>\n",
       "      <td>Thursday</td>\n",
       "      <td>Dec</td>\n",
       "      <td>3</td>\n",
       "      <td>Male</td>\n",
       "      <td>Single</td>\n",
       "      <td>...</td>\n",
       "      <td>5 years</td>\n",
       "      <td>26 to 30</td>\n",
       "      <td>No</td>\n",
       "      <td>No</td>\n",
       "      <td>External</td>\n",
       "      <td>1 to 2</td>\n",
       "      <td>no change</td>\n",
       "      <td>1 vehicle</td>\n",
       "      <td>1996</td>\n",
       "      <td>Collision</td>\n",
       "    </tr>\n",
       "  </tbody>\n",
       "</table>\n",
       "<p>15420 rows × 33 columns</p>\n",
       "</div>"
      ],
      "text/plain": [
       "      Month  WeekOfMonth  DayOfWeek     Make AccidentArea DayOfWeekClaimed  \\\n",
       "0       Dec            5  Wednesday    Honda        Urban          Tuesday   \n",
       "1       Jan            3  Wednesday    Honda        Urban           Monday   \n",
       "2       Oct            5     Friday    Honda        Urban         Thursday   \n",
       "3       Jun            2   Saturday   Toyota        Rural           Friday   \n",
       "4       Jan            5     Monday    Honda        Urban          Tuesday   \n",
       "...     ...          ...        ...      ...          ...              ...   \n",
       "15415   Nov            4     Friday   Toyota        Urban          Tuesday   \n",
       "15416   Nov            5   Thursday  Pontiac        Urban           Friday   \n",
       "15417   Nov            5   Thursday   Toyota        Rural           Friday   \n",
       "15418   Dec            1     Monday   Toyota        Urban         Thursday   \n",
       "15419   Dec            2  Wednesday   Toyota        Urban         Thursday   \n",
       "\n",
       "      MonthClaimed  WeekOfMonthClaimed     Sex MaritalStatus  ...  \\\n",
       "0              Jan                   1  Female        Single  ...   \n",
       "1              Jan                   4    Male        Single  ...   \n",
       "2              Nov                   2    Male       Married  ...   \n",
       "3              Jul                   1    Male       Married  ...   \n",
       "4              Feb                   2  Female        Single  ...   \n",
       "...            ...                 ...     ...           ...  ...   \n",
       "15415          Nov                   5    Male       Married  ...   \n",
       "15416          Dec                   1    Male       Married  ...   \n",
       "15417          Dec                   1    Male        Single  ...   \n",
       "15418          Dec                   2  Female       Married  ...   \n",
       "15419          Dec                   3    Male        Single  ...   \n",
       "\n",
       "       AgeOfVehicle AgeOfPolicyHolder PoliceReportFiled WitnessPresent  \\\n",
       "0           3 years          26 to 30                No             No   \n",
       "1           6 years          31 to 35               Yes             No   \n",
       "2           7 years          41 to 50                No             No   \n",
       "3       more than 7          51 to 65               Yes             No   \n",
       "4           5 years          31 to 35                No             No   \n",
       "...             ...               ...               ...            ...   \n",
       "15415       6 years          31 to 35                No             No   \n",
       "15416       6 years          31 to 35                No             No   \n",
       "15417       5 years          26 to 30                No             No   \n",
       "15418       2 years          31 to 35                No             No   \n",
       "15419       5 years          26 to 30                No             No   \n",
       "\n",
       "      AgentType  NumberOfSuppliments  AddressChange_Claim  NumberOfCars  Year  \\\n",
       "0      External                 none               1 year        3 to 4  1994   \n",
       "1      External                 none            no change     1 vehicle  1994   \n",
       "2      External                 none            no change     1 vehicle  1994   \n",
       "3      External          more than 5            no change     1 vehicle  1994   \n",
       "4      External                 none            no change     1 vehicle  1994   \n",
       "...         ...                  ...                  ...           ...   ...   \n",
       "15415  External                 none            no change     1 vehicle  1996   \n",
       "15416  External          more than 5            no change        3 to 4  1996   \n",
       "15417  External               1 to 2            no change     1 vehicle  1996   \n",
       "15418  External          more than 5            no change     1 vehicle  1996   \n",
       "15419  External               1 to 2            no change     1 vehicle  1996   \n",
       "\n",
       "       BasePolicy  \n",
       "0       Liability  \n",
       "1       Collision  \n",
       "2       Collision  \n",
       "3       Liability  \n",
       "4       Collision  \n",
       "...           ...  \n",
       "15415   Collision  \n",
       "15416   Liability  \n",
       "15417   Collision  \n",
       "15418  All Perils  \n",
       "15419   Collision  \n",
       "\n",
       "[15420 rows x 33 columns]"
      ]
     },
     "execution_count": 74,
     "metadata": {},
     "output_type": "execute_result"
    }
   ],
   "source": [
    "#Importing the dataset\n",
    "data=pd.read_csv(r\"C:\\Users\\akhil\\OneDrive\\Desktop\\conestogac\\fundamentals_of_programming\\project\\fraud_oracle.csv\")\n",
    "data"
   ]
  },
  {
   "cell_type": "code",
   "execution_count": null,
   "id": "ebbf049d",
   "metadata": {},
   "outputs": [],
   "source": []
  },
  {
   "cell_type": "markdown",
   "id": "aa059a54",
   "metadata": {},
   "source": [
    "# step:1 Data Cleaning \n",
    "\n",
    "The first step is to view a breakdown of the variables. \n",
    "This dataset has 33 variables, made up of 24 'object' variables and 9 'integer' variables. \n",
    "In cleaning this data, we need to ensure that there are no null-values or duplicates,\n",
    "and remove needless variables from the equation."
   ]
  },
  {
   "cell_type": "code",
   "execution_count": 75,
   "id": "69282821",
   "metadata": {},
   "outputs": [
    {
     "name": "stdout",
     "output_type": "stream",
     "text": [
      "<class 'pandas.core.frame.DataFrame'>\n",
      "RangeIndex: 15420 entries, 0 to 15419\n",
      "Data columns (total 33 columns):\n",
      " #   Column                Non-Null Count  Dtype \n",
      "---  ------                --------------  ----- \n",
      " 0   Month                 15420 non-null  object\n",
      " 1   WeekOfMonth           15420 non-null  int64 \n",
      " 2   DayOfWeek             15420 non-null  object\n",
      " 3   Make                  15420 non-null  object\n",
      " 4   AccidentArea          15420 non-null  object\n",
      " 5   DayOfWeekClaimed      15420 non-null  object\n",
      " 6   MonthClaimed          15420 non-null  object\n",
      " 7   WeekOfMonthClaimed    15420 non-null  int64 \n",
      " 8   Sex                   15420 non-null  object\n",
      " 9   MaritalStatus         15420 non-null  object\n",
      " 10  Age                   15420 non-null  int64 \n",
      " 11  Fault                 15420 non-null  object\n",
      " 12  PolicyType            15420 non-null  object\n",
      " 13  VehicleCategory       15420 non-null  object\n",
      " 14  VehiclePrice          15420 non-null  object\n",
      " 15  FraudFound_P          15420 non-null  int64 \n",
      " 16  PolicyNumber          15420 non-null  int64 \n",
      " 17  RepNumber             15420 non-null  int64 \n",
      " 18  Deductible            15420 non-null  int64 \n",
      " 19  DriverRating          15420 non-null  int64 \n",
      " 20  Days_Policy_Accident  15420 non-null  object\n",
      " 21  Days_Policy_Claim     15420 non-null  object\n",
      " 22  PastNumberOfClaims    15420 non-null  object\n",
      " 23  AgeOfVehicle          15420 non-null  object\n",
      " 24  AgeOfPolicyHolder     15420 non-null  object\n",
      " 25  PoliceReportFiled     15420 non-null  object\n",
      " 26  WitnessPresent        15420 non-null  object\n",
      " 27  AgentType             15420 non-null  object\n",
      " 28  NumberOfSuppliments   15420 non-null  object\n",
      " 29  AddressChange_Claim   15420 non-null  object\n",
      " 30  NumberOfCars          15420 non-null  object\n",
      " 31  Year                  15420 non-null  int64 \n",
      " 32  BasePolicy            15420 non-null  object\n",
      "dtypes: int64(9), object(24)\n",
      "memory usage: 3.9+ MB\n"
     ]
    }
   ],
   "source": [
    "#using  the info method on data to see info about the data\n",
    "data.info()"
   ]
  },
  {
   "cell_type": "code",
   "execution_count": 76,
   "id": "816335f0",
   "metadata": {},
   "outputs": [],
   "source": [
    "#removing duplicates and unnecessary variables\n",
    "data.drop_duplicates()\n",
    "data.drop(['PolicyNumber','RepNumber'],inplace=True,axis=1)\n"
   ]
  },
  {
   "cell_type": "code",
   "execution_count": 77,
   "id": "5c768ad7",
   "metadata": {},
   "outputs": [
    {
     "data": {
      "text/plain": [
       "Month                   0\n",
       "WeekOfMonth             0\n",
       "DayOfWeek               0\n",
       "Make                    0\n",
       "AccidentArea            0\n",
       "DayOfWeekClaimed        0\n",
       "MonthClaimed            0\n",
       "WeekOfMonthClaimed      0\n",
       "Sex                     0\n",
       "MaritalStatus           0\n",
       "Age                     0\n",
       "Fault                   0\n",
       "PolicyType              0\n",
       "VehicleCategory         0\n",
       "VehiclePrice            0\n",
       "FraudFound_P            0\n",
       "Deductible              0\n",
       "DriverRating            0\n",
       "Days_Policy_Accident    0\n",
       "Days_Policy_Claim       0\n",
       "PastNumberOfClaims      0\n",
       "AgeOfVehicle            0\n",
       "AgeOfPolicyHolder       0\n",
       "PoliceReportFiled       0\n",
       "WitnessPresent          0\n",
       "AgentType               0\n",
       "NumberOfSuppliments     0\n",
       "AddressChange_Claim     0\n",
       "NumberOfCars            0\n",
       "Year                    0\n",
       "BasePolicy              0\n",
       "dtype: int64"
      ]
     },
     "execution_count": 77,
     "metadata": {},
     "output_type": "execute_result"
    }
   ],
   "source": [
    "#checking if there are any null values\n",
    "data.isnull().sum()\n",
    "#luckly We do not have any missing values"
   ]
  },
  {
   "cell_type": "markdown",
   "id": "fd09f550",
   "metadata": {},
   "source": [
    "# Step 2: Exploratory Data Analysis"
   ]
  },
  {
   "cell_type": "code",
   "execution_count": 78,
   "id": "6ba81c7d",
   "metadata": {},
   "outputs": [
    {
     "data": {
      "text/html": [
       "<div>\n",
       "<style scoped>\n",
       "    .dataframe tbody tr th:only-of-type {\n",
       "        vertical-align: middle;\n",
       "    }\n",
       "\n",
       "    .dataframe tbody tr th {\n",
       "        vertical-align: top;\n",
       "    }\n",
       "\n",
       "    .dataframe thead th {\n",
       "        text-align: right;\n",
       "    }\n",
       "</style>\n",
       "<table border=\"1\" class=\"dataframe\">\n",
       "  <thead>\n",
       "    <tr style=\"text-align: right;\">\n",
       "      <th></th>\n",
       "      <th>0</th>\n",
       "      <th>1</th>\n",
       "      <th>2</th>\n",
       "      <th>3</th>\n",
       "      <th>4</th>\n",
       "    </tr>\n",
       "  </thead>\n",
       "  <tbody>\n",
       "    <tr>\n",
       "      <th>Month</th>\n",
       "      <td>Dec</td>\n",
       "      <td>Jan</td>\n",
       "      <td>Oct</td>\n",
       "      <td>Jun</td>\n",
       "      <td>Jan</td>\n",
       "    </tr>\n",
       "    <tr>\n",
       "      <th>WeekOfMonth</th>\n",
       "      <td>5</td>\n",
       "      <td>3</td>\n",
       "      <td>5</td>\n",
       "      <td>2</td>\n",
       "      <td>5</td>\n",
       "    </tr>\n",
       "    <tr>\n",
       "      <th>DayOfWeek</th>\n",
       "      <td>Wednesday</td>\n",
       "      <td>Wednesday</td>\n",
       "      <td>Friday</td>\n",
       "      <td>Saturday</td>\n",
       "      <td>Monday</td>\n",
       "    </tr>\n",
       "    <tr>\n",
       "      <th>Make</th>\n",
       "      <td>Honda</td>\n",
       "      <td>Honda</td>\n",
       "      <td>Honda</td>\n",
       "      <td>Toyota</td>\n",
       "      <td>Honda</td>\n",
       "    </tr>\n",
       "    <tr>\n",
       "      <th>AccidentArea</th>\n",
       "      <td>Urban</td>\n",
       "      <td>Urban</td>\n",
       "      <td>Urban</td>\n",
       "      <td>Rural</td>\n",
       "      <td>Urban</td>\n",
       "    </tr>\n",
       "    <tr>\n",
       "      <th>DayOfWeekClaimed</th>\n",
       "      <td>Tuesday</td>\n",
       "      <td>Monday</td>\n",
       "      <td>Thursday</td>\n",
       "      <td>Friday</td>\n",
       "      <td>Tuesday</td>\n",
       "    </tr>\n",
       "    <tr>\n",
       "      <th>MonthClaimed</th>\n",
       "      <td>Jan</td>\n",
       "      <td>Jan</td>\n",
       "      <td>Nov</td>\n",
       "      <td>Jul</td>\n",
       "      <td>Feb</td>\n",
       "    </tr>\n",
       "    <tr>\n",
       "      <th>WeekOfMonthClaimed</th>\n",
       "      <td>1</td>\n",
       "      <td>4</td>\n",
       "      <td>2</td>\n",
       "      <td>1</td>\n",
       "      <td>2</td>\n",
       "    </tr>\n",
       "    <tr>\n",
       "      <th>Sex</th>\n",
       "      <td>Female</td>\n",
       "      <td>Male</td>\n",
       "      <td>Male</td>\n",
       "      <td>Male</td>\n",
       "      <td>Female</td>\n",
       "    </tr>\n",
       "    <tr>\n",
       "      <th>MaritalStatus</th>\n",
       "      <td>Single</td>\n",
       "      <td>Single</td>\n",
       "      <td>Married</td>\n",
       "      <td>Married</td>\n",
       "      <td>Single</td>\n",
       "    </tr>\n",
       "    <tr>\n",
       "      <th>Age</th>\n",
       "      <td>21</td>\n",
       "      <td>34</td>\n",
       "      <td>47</td>\n",
       "      <td>65</td>\n",
       "      <td>27</td>\n",
       "    </tr>\n",
       "    <tr>\n",
       "      <th>Fault</th>\n",
       "      <td>Policy Holder</td>\n",
       "      <td>Policy Holder</td>\n",
       "      <td>Policy Holder</td>\n",
       "      <td>Third Party</td>\n",
       "      <td>Third Party</td>\n",
       "    </tr>\n",
       "    <tr>\n",
       "      <th>PolicyType</th>\n",
       "      <td>Sport - Liability</td>\n",
       "      <td>Sport - Collision</td>\n",
       "      <td>Sport - Collision</td>\n",
       "      <td>Sedan - Liability</td>\n",
       "      <td>Sport - Collision</td>\n",
       "    </tr>\n",
       "    <tr>\n",
       "      <th>VehicleCategory</th>\n",
       "      <td>Sport</td>\n",
       "      <td>Sport</td>\n",
       "      <td>Sport</td>\n",
       "      <td>Sport</td>\n",
       "      <td>Sport</td>\n",
       "    </tr>\n",
       "    <tr>\n",
       "      <th>VehiclePrice</th>\n",
       "      <td>more than 69000</td>\n",
       "      <td>more than 69000</td>\n",
       "      <td>more than 69000</td>\n",
       "      <td>20000 to 29000</td>\n",
       "      <td>more than 69000</td>\n",
       "    </tr>\n",
       "    <tr>\n",
       "      <th>FraudFound_P</th>\n",
       "      <td>0</td>\n",
       "      <td>0</td>\n",
       "      <td>0</td>\n",
       "      <td>0</td>\n",
       "      <td>0</td>\n",
       "    </tr>\n",
       "    <tr>\n",
       "      <th>Deductible</th>\n",
       "      <td>300</td>\n",
       "      <td>400</td>\n",
       "      <td>400</td>\n",
       "      <td>400</td>\n",
       "      <td>400</td>\n",
       "    </tr>\n",
       "    <tr>\n",
       "      <th>DriverRating</th>\n",
       "      <td>1</td>\n",
       "      <td>4</td>\n",
       "      <td>3</td>\n",
       "      <td>2</td>\n",
       "      <td>1</td>\n",
       "    </tr>\n",
       "    <tr>\n",
       "      <th>Days_Policy_Accident</th>\n",
       "      <td>more than 30</td>\n",
       "      <td>more than 30</td>\n",
       "      <td>more than 30</td>\n",
       "      <td>more than 30</td>\n",
       "      <td>more than 30</td>\n",
       "    </tr>\n",
       "    <tr>\n",
       "      <th>Days_Policy_Claim</th>\n",
       "      <td>more than 30</td>\n",
       "      <td>more than 30</td>\n",
       "      <td>more than 30</td>\n",
       "      <td>more than 30</td>\n",
       "      <td>more than 30</td>\n",
       "    </tr>\n",
       "    <tr>\n",
       "      <th>PastNumberOfClaims</th>\n",
       "      <td>none</td>\n",
       "      <td>none</td>\n",
       "      <td>1</td>\n",
       "      <td>1</td>\n",
       "      <td>none</td>\n",
       "    </tr>\n",
       "    <tr>\n",
       "      <th>AgeOfVehicle</th>\n",
       "      <td>3 years</td>\n",
       "      <td>6 years</td>\n",
       "      <td>7 years</td>\n",
       "      <td>more than 7</td>\n",
       "      <td>5 years</td>\n",
       "    </tr>\n",
       "    <tr>\n",
       "      <th>AgeOfPolicyHolder</th>\n",
       "      <td>26 to 30</td>\n",
       "      <td>31 to 35</td>\n",
       "      <td>41 to 50</td>\n",
       "      <td>51 to 65</td>\n",
       "      <td>31 to 35</td>\n",
       "    </tr>\n",
       "    <tr>\n",
       "      <th>PoliceReportFiled</th>\n",
       "      <td>No</td>\n",
       "      <td>Yes</td>\n",
       "      <td>No</td>\n",
       "      <td>Yes</td>\n",
       "      <td>No</td>\n",
       "    </tr>\n",
       "    <tr>\n",
       "      <th>WitnessPresent</th>\n",
       "      <td>No</td>\n",
       "      <td>No</td>\n",
       "      <td>No</td>\n",
       "      <td>No</td>\n",
       "      <td>No</td>\n",
       "    </tr>\n",
       "    <tr>\n",
       "      <th>AgentType</th>\n",
       "      <td>External</td>\n",
       "      <td>External</td>\n",
       "      <td>External</td>\n",
       "      <td>External</td>\n",
       "      <td>External</td>\n",
       "    </tr>\n",
       "    <tr>\n",
       "      <th>NumberOfSuppliments</th>\n",
       "      <td>none</td>\n",
       "      <td>none</td>\n",
       "      <td>none</td>\n",
       "      <td>more than 5</td>\n",
       "      <td>none</td>\n",
       "    </tr>\n",
       "    <tr>\n",
       "      <th>AddressChange_Claim</th>\n",
       "      <td>1 year</td>\n",
       "      <td>no change</td>\n",
       "      <td>no change</td>\n",
       "      <td>no change</td>\n",
       "      <td>no change</td>\n",
       "    </tr>\n",
       "    <tr>\n",
       "      <th>NumberOfCars</th>\n",
       "      <td>3 to 4</td>\n",
       "      <td>1 vehicle</td>\n",
       "      <td>1 vehicle</td>\n",
       "      <td>1 vehicle</td>\n",
       "      <td>1 vehicle</td>\n",
       "    </tr>\n",
       "    <tr>\n",
       "      <th>Year</th>\n",
       "      <td>1994</td>\n",
       "      <td>1994</td>\n",
       "      <td>1994</td>\n",
       "      <td>1994</td>\n",
       "      <td>1994</td>\n",
       "    </tr>\n",
       "    <tr>\n",
       "      <th>BasePolicy</th>\n",
       "      <td>Liability</td>\n",
       "      <td>Collision</td>\n",
       "      <td>Collision</td>\n",
       "      <td>Liability</td>\n",
       "      <td>Collision</td>\n",
       "    </tr>\n",
       "  </tbody>\n",
       "</table>\n",
       "</div>"
      ],
      "text/plain": [
       "                                      0                  1                  2  \\\n",
       "Month                               Dec                Jan                Oct   \n",
       "WeekOfMonth                           5                  3                  5   \n",
       "DayOfWeek                     Wednesday          Wednesday             Friday   \n",
       "Make                              Honda              Honda              Honda   \n",
       "AccidentArea                      Urban              Urban              Urban   \n",
       "DayOfWeekClaimed                Tuesday             Monday           Thursday   \n",
       "MonthClaimed                        Jan                Jan                Nov   \n",
       "WeekOfMonthClaimed                    1                  4                  2   \n",
       "Sex                              Female               Male               Male   \n",
       "MaritalStatus                    Single             Single            Married   \n",
       "Age                                  21                 34                 47   \n",
       "Fault                     Policy Holder      Policy Holder      Policy Holder   \n",
       "PolicyType            Sport - Liability  Sport - Collision  Sport - Collision   \n",
       "VehicleCategory                   Sport              Sport              Sport   \n",
       "VehiclePrice            more than 69000    more than 69000    more than 69000   \n",
       "FraudFound_P                          0                  0                  0   \n",
       "Deductible                          300                400                400   \n",
       "DriverRating                          1                  4                  3   \n",
       "Days_Policy_Accident       more than 30       more than 30       more than 30   \n",
       "Days_Policy_Claim          more than 30       more than 30       more than 30   \n",
       "PastNumberOfClaims                 none               none                  1   \n",
       "AgeOfVehicle                    3 years            6 years            7 years   \n",
       "AgeOfPolicyHolder              26 to 30           31 to 35           41 to 50   \n",
       "PoliceReportFiled                    No                Yes                 No   \n",
       "WitnessPresent                       No                 No                 No   \n",
       "AgentType                      External           External           External   \n",
       "NumberOfSuppliments                none               none               none   \n",
       "AddressChange_Claim              1 year          no change          no change   \n",
       "NumberOfCars                     3 to 4          1 vehicle          1 vehicle   \n",
       "Year                               1994               1994               1994   \n",
       "BasePolicy                    Liability          Collision          Collision   \n",
       "\n",
       "                                      3                  4  \n",
       "Month                               Jun                Jan  \n",
       "WeekOfMonth                           2                  5  \n",
       "DayOfWeek                      Saturday             Monday  \n",
       "Make                             Toyota              Honda  \n",
       "AccidentArea                      Rural              Urban  \n",
       "DayOfWeekClaimed                 Friday            Tuesday  \n",
       "MonthClaimed                        Jul                Feb  \n",
       "WeekOfMonthClaimed                    1                  2  \n",
       "Sex                                Male             Female  \n",
       "MaritalStatus                   Married             Single  \n",
       "Age                                  65                 27  \n",
       "Fault                       Third Party        Third Party  \n",
       "PolicyType            Sedan - Liability  Sport - Collision  \n",
       "VehicleCategory                   Sport              Sport  \n",
       "VehiclePrice             20000 to 29000    more than 69000  \n",
       "FraudFound_P                          0                  0  \n",
       "Deductible                          400                400  \n",
       "DriverRating                          2                  1  \n",
       "Days_Policy_Accident       more than 30       more than 30  \n",
       "Days_Policy_Claim          more than 30       more than 30  \n",
       "PastNumberOfClaims                    1               none  \n",
       "AgeOfVehicle                more than 7            5 years  \n",
       "AgeOfPolicyHolder              51 to 65           31 to 35  \n",
       "PoliceReportFiled                   Yes                 No  \n",
       "WitnessPresent                       No                 No  \n",
       "AgentType                      External           External  \n",
       "NumberOfSuppliments         more than 5               none  \n",
       "AddressChange_Claim           no change          no change  \n",
       "NumberOfCars                  1 vehicle          1 vehicle  \n",
       "Year                               1994               1994  \n",
       "BasePolicy                    Liability          Collision  "
      ]
     },
     "execution_count": 78,
     "metadata": {},
     "output_type": "execute_result"
    }
   ],
   "source": [
    "\n",
    "# the head method on data to print the first several rows of the data\n",
    "data.head().T"
   ]
  },
  {
   "cell_type": "code",
   "execution_count": 79,
   "id": "cdb3f51b",
   "metadata": {},
   "outputs": [
    {
     "data": {
      "text/plain": [
       "Index(['Month', 'WeekOfMonth', 'DayOfWeek', 'Make', 'AccidentArea',\n",
       "       'DayOfWeekClaimed', 'MonthClaimed', 'WeekOfMonthClaimed', 'Sex',\n",
       "       'MaritalStatus', 'Age', 'Fault', 'PolicyType', 'VehicleCategory',\n",
       "       'VehiclePrice', 'FraudFound_P', 'Deductible', 'DriverRating',\n",
       "       'Days_Policy_Accident', 'Days_Policy_Claim', 'PastNumberOfClaims',\n",
       "       'AgeOfVehicle', 'AgeOfPolicyHolder', 'PoliceReportFiled',\n",
       "       'WitnessPresent', 'AgentType', 'NumberOfSuppliments',\n",
       "       'AddressChange_Claim', 'NumberOfCars', 'Year', 'BasePolicy'],\n",
       "      dtype='object')"
      ]
     },
     "execution_count": 79,
     "metadata": {},
     "output_type": "execute_result"
    }
   ],
   "source": [
    "# Display all column names /variable names\n",
    "data.columns"
   ]
  },
  {
   "cell_type": "code",
   "execution_count": 80,
   "id": "c9e2d7a2",
   "metadata": {},
   "outputs": [],
   "source": [
    "# Amongst the column list above most of the columns are categorical, apart from deductible. \n",
    "#Since we are trying to model the fraudulent transaction the \" FraudFound_P\" is our dependent variable is binary"
   ]
  },
  {
   "cell_type": "code",
   "execution_count": 81,
   "id": "c8901828",
   "metadata": {},
   "outputs": [
    {
     "data": {
      "text/html": [
       "<div>\n",
       "<style scoped>\n",
       "    .dataframe tbody tr th:only-of-type {\n",
       "        vertical-align: middle;\n",
       "    }\n",
       "\n",
       "    .dataframe tbody tr th {\n",
       "        vertical-align: top;\n",
       "    }\n",
       "\n",
       "    .dataframe thead th {\n",
       "        text-align: right;\n",
       "    }\n",
       "</style>\n",
       "<table border=\"1\" class=\"dataframe\">\n",
       "  <thead>\n",
       "    <tr style=\"text-align: right;\">\n",
       "      <th></th>\n",
       "      <th>count</th>\n",
       "      <th>mean</th>\n",
       "      <th>std</th>\n",
       "      <th>min</th>\n",
       "      <th>25%</th>\n",
       "      <th>50%</th>\n",
       "      <th>75%</th>\n",
       "      <th>max</th>\n",
       "    </tr>\n",
       "  </thead>\n",
       "  <tbody>\n",
       "    <tr>\n",
       "      <th>WeekOfMonth</th>\n",
       "      <td>15420.0</td>\n",
       "      <td>2.788586</td>\n",
       "      <td>1.287585</td>\n",
       "      <td>1.0</td>\n",
       "      <td>2.0</td>\n",
       "      <td>3.0</td>\n",
       "      <td>4.0</td>\n",
       "      <td>5.0</td>\n",
       "    </tr>\n",
       "    <tr>\n",
       "      <th>WeekOfMonthClaimed</th>\n",
       "      <td>15420.0</td>\n",
       "      <td>2.693969</td>\n",
       "      <td>1.259115</td>\n",
       "      <td>1.0</td>\n",
       "      <td>2.0</td>\n",
       "      <td>3.0</td>\n",
       "      <td>4.0</td>\n",
       "      <td>5.0</td>\n",
       "    </tr>\n",
       "    <tr>\n",
       "      <th>Age</th>\n",
       "      <td>15420.0</td>\n",
       "      <td>39.855707</td>\n",
       "      <td>13.492377</td>\n",
       "      <td>0.0</td>\n",
       "      <td>31.0</td>\n",
       "      <td>38.0</td>\n",
       "      <td>48.0</td>\n",
       "      <td>80.0</td>\n",
       "    </tr>\n",
       "    <tr>\n",
       "      <th>FraudFound_P</th>\n",
       "      <td>15420.0</td>\n",
       "      <td>0.059857</td>\n",
       "      <td>0.237230</td>\n",
       "      <td>0.0</td>\n",
       "      <td>0.0</td>\n",
       "      <td>0.0</td>\n",
       "      <td>0.0</td>\n",
       "      <td>1.0</td>\n",
       "    </tr>\n",
       "    <tr>\n",
       "      <th>Deductible</th>\n",
       "      <td>15420.0</td>\n",
       "      <td>407.704280</td>\n",
       "      <td>43.950998</td>\n",
       "      <td>300.0</td>\n",
       "      <td>400.0</td>\n",
       "      <td>400.0</td>\n",
       "      <td>400.0</td>\n",
       "      <td>700.0</td>\n",
       "    </tr>\n",
       "    <tr>\n",
       "      <th>DriverRating</th>\n",
       "      <td>15420.0</td>\n",
       "      <td>2.487808</td>\n",
       "      <td>1.119453</td>\n",
       "      <td>1.0</td>\n",
       "      <td>1.0</td>\n",
       "      <td>2.0</td>\n",
       "      <td>3.0</td>\n",
       "      <td>4.0</td>\n",
       "    </tr>\n",
       "    <tr>\n",
       "      <th>Year</th>\n",
       "      <td>15420.0</td>\n",
       "      <td>1994.866472</td>\n",
       "      <td>0.803313</td>\n",
       "      <td>1994.0</td>\n",
       "      <td>1994.0</td>\n",
       "      <td>1995.0</td>\n",
       "      <td>1996.0</td>\n",
       "      <td>1996.0</td>\n",
       "    </tr>\n",
       "  </tbody>\n",
       "</table>\n",
       "</div>"
      ],
      "text/plain": [
       "                      count         mean        std     min     25%     50%  \\\n",
       "WeekOfMonth         15420.0     2.788586   1.287585     1.0     2.0     3.0   \n",
       "WeekOfMonthClaimed  15420.0     2.693969   1.259115     1.0     2.0     3.0   \n",
       "Age                 15420.0    39.855707  13.492377     0.0    31.0    38.0   \n",
       "FraudFound_P        15420.0     0.059857   0.237230     0.0     0.0     0.0   \n",
       "Deductible          15420.0   407.704280  43.950998   300.0   400.0   400.0   \n",
       "DriverRating        15420.0     2.487808   1.119453     1.0     1.0     2.0   \n",
       "Year                15420.0  1994.866472   0.803313  1994.0  1994.0  1995.0   \n",
       "\n",
       "                       75%     max  \n",
       "WeekOfMonth            4.0     5.0  \n",
       "WeekOfMonthClaimed     4.0     5.0  \n",
       "Age                   48.0    80.0  \n",
       "FraudFound_P           0.0     1.0  \n",
       "Deductible           400.0   700.0  \n",
       "DriverRating           3.0     4.0  \n",
       "Year                1996.0  1996.0  "
      ]
     },
     "execution_count": 81,
     "metadata": {},
     "output_type": "execute_result"
    }
   ],
   "source": [
    "#Checking the numerical features\n",
    "data.describe().T\n",
    "#Amongst the numeric features week of month, week of month claimed, fraud found, driver rating seems categorical"
   ]
  },
  {
   "cell_type": "code",
   "execution_count": 82,
   "id": "c4b7993c",
   "metadata": {},
   "outputs": [
    {
     "name": "stdout",
     "output_type": "stream",
     "text": [
      "Month\n",
      "['Apr', 'Aug', 'Dec', 'Feb', 'Jan', 'Jul', 'Jun', 'Mar', 'May', 'Nov', 'Oct', 'Sep'] \n",
      "\n",
      "WeekOfMonth\n",
      "[1, 2, 3, 4, 5] \n",
      "\n",
      "DayOfWeek\n",
      "['Friday', 'Monday', 'Saturday', 'Sunday', 'Thursday', 'Tuesday', 'Wednesday'] \n",
      "\n",
      "Make\n",
      "['Accura', 'BMW', 'Chevrolet', 'Dodge', 'Ferrari', 'Ford', 'Honda', 'Jaguar', 'Lexus', 'Mazda', 'Mecedes', 'Mercury', 'Nisson', 'Pontiac', 'Porche', 'Saab', 'Saturn', 'Toyota', 'VW'] \n",
      "\n",
      "AccidentArea\n",
      "['Rural', 'Urban'] \n",
      "\n",
      "DayOfWeekClaimed\n",
      "['0', 'Friday', 'Monday', 'Saturday', 'Sunday', 'Thursday', 'Tuesday', 'Wednesday'] \n",
      "\n",
      "MonthClaimed\n",
      "['0', 'Apr', 'Aug', 'Dec', 'Feb', 'Jan', 'Jul', 'Jun', 'Mar', 'May', 'Nov', 'Oct', 'Sep'] \n",
      "\n",
      "WeekOfMonthClaimed\n",
      "[1, 2, 3, 4, 5] \n",
      "\n",
      "Sex\n",
      "['Female', 'Male'] \n",
      "\n",
      "MaritalStatus\n",
      "['Divorced', 'Married', 'Single', 'Widow'] \n",
      "\n",
      "Age\n",
      "[0, 16, 17, 18, 19, 20, 21, 22, 23, 24, 25, 26, 27, 28, 29, 30, 31, 32, 33, 34, 35, 36, 37, 38, 39, 40, 41, 42, 43, 44, 45, 46, 47, 48, 49, 50, 51, 52, 53, 54, 55, 56, 57, 58, 59, 60, 61, 62, 63, 64, 65, 66, 67, 68, 69, 70, 71, 72, 73, 74, 75, 76, 77, 78, 79, 80] \n",
      "\n",
      "Fault\n",
      "['Policy Holder', 'Third Party'] \n",
      "\n",
      "PolicyType\n",
      "['Sedan - All Perils', 'Sedan - Collision', 'Sedan - Liability', 'Sport - All Perils', 'Sport - Collision', 'Sport - Liability', 'Utility - All Perils', 'Utility - Collision', 'Utility - Liability'] \n",
      "\n",
      "VehicleCategory\n",
      "['Sedan', 'Sport', 'Utility'] \n",
      "\n",
      "VehiclePrice\n",
      "['20000 to 29000', '30000 to 39000', '40000 to 59000', '60000 to 69000', 'less than 20000', 'more than 69000'] \n",
      "\n",
      "FraudFound_P\n",
      "[0, 1] \n",
      "\n",
      "Deductible\n",
      "[300, 400, 500, 700] \n",
      "\n",
      "DriverRating\n",
      "[1, 2, 3, 4] \n",
      "\n",
      "Days_Policy_Accident\n",
      "['1 to 7', '15 to 30', '8 to 15', 'more than 30', 'none'] \n",
      "\n",
      "Days_Policy_Claim\n",
      "['15 to 30', '8 to 15', 'more than 30', 'none'] \n",
      "\n",
      "PastNumberOfClaims\n",
      "['1', '2 to 4', 'more than 4', 'none'] \n",
      "\n",
      "AgeOfVehicle\n",
      "['2 years', '3 years', '4 years', '5 years', '6 years', '7 years', 'more than 7', 'new'] \n",
      "\n",
      "AgeOfPolicyHolder\n",
      "['16 to 17', '18 to 20', '21 to 25', '26 to 30', '31 to 35', '36 to 40', '41 to 50', '51 to 65', 'over 65'] \n",
      "\n",
      "PoliceReportFiled\n",
      "['No', 'Yes'] \n",
      "\n",
      "WitnessPresent\n",
      "['No', 'Yes'] \n",
      "\n",
      "AgentType\n",
      "['External', 'Internal'] \n",
      "\n",
      "NumberOfSuppliments\n",
      "['1 to 2', '3 to 5', 'more than 5', 'none'] \n",
      "\n",
      "AddressChange_Claim\n",
      "['1 year', '2 to 3 years', '4 to 8 years', 'no change', 'under 6 months'] \n",
      "\n",
      "NumberOfCars\n",
      "['1 vehicle', '2 vehicles', '3 to 4', '5 to 8', 'more than 8'] \n",
      "\n",
      "Year\n",
      "[1994, 1995, 1996] \n",
      "\n",
      "BasePolicy\n",
      "['All Perils', 'Collision', 'Liability'] \n",
      "\n"
     ]
    }
   ],
   "source": [
    "# To show unique values in each column/variable\n",
    "for column in data:\n",
    "    print(column)\n",
    "    print(sorted(data[column].unique()),\"\\n\")"
   ]
  },
  {
   "cell_type": "markdown",
   "id": "ed444fc7",
   "metadata": {},
   "source": [
    "creating separate datasets for fraud and no-fraud, \n",
    "so that we can more easily measure the correlation between other variables and fraud.\n"
   ]
  },
  {
   "cell_type": "code",
   "execution_count": 83,
   "id": "02c05858",
   "metadata": {},
   "outputs": [],
   "source": [
    "#filtering and storing the  legitimate and fruadulent claims\n",
    "nonfraud=data.loc[data['FraudFound_P']==0]\n",
    "fraud=data.loc[data['FraudFound_P']==1]\n",
    "\n"
   ]
  },
  {
   "cell_type": "code",
   "execution_count": 84,
   "id": "25ccce10",
   "metadata": {},
   "outputs": [
    {
     "data": {
      "image/png": "[encoded data removed]",
      "text/plain": [
       "<Figure size 1500x1000 with 9 Axes>"
      ]
     },
     "metadata": {},
     "output_type": "display_data"
    }
   ],
   "source": [
    "#Checking histograms of numerical features \n",
    "data.hist(figsize=(15,10))\n",
    "plt.subplots_adjust(hspace=0.5);"
   ]
  },
  {
   "cell_type": "markdown",
   "id": "0c8eac5e",
   "metadata": {},
   "source": [
    "\n",
    "1. Most of the deductibles are in 3 categories. Most commonly involved in claims is 400\n",
    "2. Driver Rating are somewhat equally distributed\n",
    "3. Fraudulent claims have very small proportion\n",
    "4. Only 3 years of cars showing in the data and year 1994 ( older cars) have more involvement in accidents"
   ]
  },
  {
   "cell_type": "markdown",
   "id": "9851145e",
   "metadata": {},
   "source": [
    "# Checking the distribution of Categorical Columns"
   ]
  },
  {
   "cell_type": "markdown",
   "id": "5d92bb86",
   "metadata": {},
   "source": [
    "#### 1.MONTH"
   ]
  },
  {
   "cell_type": "code",
   "execution_count": 85,
   "id": "27d04447",
   "metadata": {},
   "outputs": [
    {
     "name": "stdout",
     "output_type": "stream",
     "text": [
      "Jan    0.091505\n",
      "May    0.088651\n",
      "Mar    0.088197\n",
      "Jun    0.085668\n",
      "Oct    0.084630\n",
      "Dec    0.083333\n",
      "Apr    0.083009\n",
      "Feb    0.082101\n",
      "Jul    0.081518\n",
      "Sep    0.080415\n",
      "Nov    0.077886\n",
      "Aug    0.073087\n",
      "Name: Month, dtype: float64\n"
     ]
    },
    {
     "data": {
      "image/png": "[encoded data removed]",
      "text/plain": [
       "<Figure size 500x500 with 1 Axes>"
      ]
     },
     "metadata": {},
     "output_type": "display_data"
    }
   ],
   "source": [
    "item1 = data['Month'].value_counts(normalize=True)\n",
    "print(item1)\n",
    "#plotting using seaborn\n",
    "sns.displot(x ='Month',stat=\"probability\",palette = 'hls',data = data)\n",
    "plt.tight_layout()\n",
    "plt.show()\n",
    "\n",
    "#months of March and May has relatively higher probablity"
   ]
  },
  {
   "cell_type": "code",
   "execution_count": 86,
   "id": "1847b206",
   "metadata": {},
   "outputs": [
    {
     "name": "stdout",
     "output_type": "stream",
     "text": [
      "Month\n",
      "Apr    0.062500\n",
      "Aug    0.074534\n",
      "Dec    0.048249\n",
      "Feb    0.064771\n",
      "Jan    0.061658\n",
      "Jul    0.047733\n",
      "Jun    0.060560\n",
      "Mar    0.075000\n",
      "May    0.068764\n",
      "Nov    0.038301\n",
      "Oct    0.053640\n",
      "Sep    0.061290\n",
      "Name: FraudFound_P, dtype: float64\n",
      "Month\n",
      "Apr    0.242156\n",
      "Aug    0.262755\n",
      "Dec    0.214375\n",
      "Feb    0.246218\n",
      "Jan    0.240619\n",
      "Jul    0.213285\n",
      "Jun    0.238612\n",
      "Mar    0.263488\n",
      "May    0.253145\n",
      "Nov    0.192003\n",
      "Oct    0.225392\n",
      "Sep    0.239959\n",
      "Name: FraudFound_P, dtype: float64\n"
     ]
    },
    {
     "data": {
      "image/png": "[encoded data removed]",
      "text/plain": [
       "<Figure size 1500x400 with 1 Axes>"
      ]
     },
     "metadata": {},
     "output_type": "display_data"
    }
   ],
   "source": [
    "sns.set(style=\"whitegrid\") \n",
    "plt.figure(figsize=(15,4))\n",
    "ax=sns.barplot(x = 'Month', y = 'FraudFound_P', data = data,\n",
    "            palette = 'hls',\n",
    "            capsize = 0.05,             \n",
    "            saturation = 8,             \n",
    "            errcolor = 'gray', errwidth = 2,  \n",
    "            ci = 'sd'   \n",
    "            )\n",
    "\n",
    "print(data.groupby(['Month']).mean()['FraudFound_P'])\n",
    "print(data.groupby(['Month']).std()['FraudFound_P'])\n",
    "plt.tight_layout()\n",
    "plt.show()\n"
   ]
  },
  {
   "cell_type": "markdown",
   "id": "4f2bdc9b",
   "metadata": {},
   "source": [
    "### 2. the make of the vehicle"
   ]
  },
  {
   "cell_type": "code",
   "execution_count": 87,
   "id": "a2588641",
   "metadata": {},
   "outputs": [
    {
     "data": {
      "image/png": "[encoded data removed]",
      "text/plain": [
       "<Figure size 1200x800 with 1 Axes>"
      ]
     },
     "metadata": {},
     "output_type": "display_data"
    }
   ],
   "source": [
    "plt.figure(figsize=(12, 8))\n",
    "ax3 = sns.countplot(x=\"Make\",order=data['Make'].value_counts().index ,data=data)\n",
    "ax3.set(xlabel='Class', ylabel='Count')\n",
    "\n",
    "\n",
    "plt.show()"
   ]
  },
  {
   "cell_type": "markdown",
   "id": "ee471833",
   "metadata": {},
   "source": [
    "Pontiac, Toyota, Honda, Mazda and Chevrolet are the top 5 makes involved in claims"
   ]
  },
  {
   "cell_type": "markdown",
   "id": "84b8dcbd",
   "metadata": {},
   "source": [
    "#### 3. the distribution of total claims columns"
   ]
  },
  {
   "cell_type": "code",
   "execution_count": 88,
   "id": "4e085130",
   "metadata": {},
   "outputs": [
    {
     "data": {
      "text/plain": [
       "0    14497\n",
       "1      923\n",
       "Name: FraudFound_P, dtype: int64"
      ]
     },
     "execution_count": 88,
     "metadata": {},
     "output_type": "execute_result"
    }
   ],
   "source": [
    "data['FraudFound_P'].value_counts()\n"
   ]
  },
  {
   "cell_type": "code",
   "execution_count": 89,
   "id": "bcf73337",
   "metadata": {},
   "outputs": [
    {
     "data": {
      "image/png": "[encoded data removed]",
      "text/plain": [
       "<Figure size 640x480 with 1 Axes>"
      ]
     },
     "metadata": {},
     "output_type": "display_data"
    }
   ],
   "source": [
    "# PERCENTAGE BAR PLOT  (fruadulent and legitimate claims)\n",
    "\n",
    "ax = sns.barplot(x='FraudFound_P', y='FraudFound_P', data=data, estimator=lambda x: len(x) / len(data) * 100)\n",
    "ax.bar_label(ax.containers[0])\n",
    "ax.set(ylabel=\"Percent\")\n",
    "plt.tight_layout()\n",
    "plt.show()\n",
    "# For the FraudFound_P column, 0 means fraud was not found, \n",
    "#and 1 means fraud was found."
   ]
  },
  {
   "cell_type": "markdown",
   "id": "ba1993f9",
   "metadata": {},
   "source": [
    "Close to 94% (14497 claims) tranaction are fair and 6%(923 claims) are fraudulent."
   ]
  },
  {
   "cell_type": "markdown",
   "id": "1a20ada6",
   "metadata": {},
   "source": [
    "#### 4. contribution of sex type on fruadulent and legitimate claims"
   ]
  },
  {
   "cell_type": "code",
   "execution_count": 90,
   "id": "d8bea449",
   "metadata": {},
   "outputs": [
    {
     "data": {
      "image/png": "[encoded data removed]",
      "text/plain": [
       "<Figure size 640x480 with 1 Axes>"
      ]
     },
     "metadata": {},
     "output_type": "display_data"
    }
   ],
   "source": [
    "# for all claims\n",
    "sns.set(style=\"whitegrid\")\n",
    "ax=sns.barplot(data=data,x='FraudFound_P', y='FraudFound_P',hue='Sex', \n",
    "               color=\"skyblue\",estimator=lambda x: len(x) / len(data) * 100)\n",
    "for container in ax.containers:\n",
    "    ax.bar_label(container)\n",
    "    ax.set(ylabel=\"Percent\")\n",
    "plt.tight_layout()\n",
    "plt.show()"
   ]
  },
  {
   "cell_type": "code",
   "execution_count": 91,
   "id": "c99a5b8d",
   "metadata": {},
   "outputs": [
    {
     "data": {
      "image/png": "[encoded data removed]",
      "text/plain": [
       "<Figure size 640x480 with 1 Axes>"
      ]
     },
     "metadata": {},
     "output_type": "display_data"
    }
   ],
   "source": [
    "# for legitimate claims\n",
    "sns.set(style=\"whitegrid\")  \n",
    "ax=sns.barplot(data=nonfraud,x='FraudFound_P',y='FraudFound_P',hue='Sex',\n",
    "               color=\"skyblue\",estimator=lambda x: len(x) / len(nonfraud) * 100)\n",
    "for container in ax.containers:\n",
    "    ax.bar_label(container)\n",
    "    ax.set(ylabel=\"Percent\")\n",
    "    plt.tight_layout()\n",
    "plt.show()"
   ]
  },
  {
   "cell_type": "code",
   "execution_count": 92,
   "id": "41054405",
   "metadata": {},
   "outputs": [
    {
     "data": {
      "image/png": "[encoded data removed]",
      "text/plain": [
       "<Figure size 640x480 with 1 Axes>"
      ]
     },
     "metadata": {},
     "output_type": "display_data"
    }
   ],
   "source": [
    "# for fruadulent claims\n",
    "sns.set(style=\"whitegrid\") \n",
    "ax=sns.barplot(data=fraud,x='FraudFound_P',y='FraudFound_P',hue='Sex', \n",
    "               color=\"skyblue\",estimator=lambda x: len(x) / len(fraud) * 100)\n",
    "for container in ax.containers:\n",
    "    ax.bar_label(container)\n",
    "    ax.set(ylabel=\"Percent\")\n",
    "plt.tight_layout()\n",
    "plt.show()"
   ]
  },
  {
   "cell_type": "markdown",
   "id": "3c3399c8",
   "metadata": {},
   "source": [
    "Amongst the total claims males contribute 84.03% for non-fraudulent transactions \n",
    "but contribute 88.62% of fraudulent transactions.\n",
    "Males are more likely to submit fraudulent claims\")"
   ]
  },
  {
   "cell_type": "markdown",
   "id": "070501ec",
   "metadata": {},
   "source": [
    "#### 5.fraudulent transactions by age "
   ]
  },
  {
   "cell_type": "code",
   "execution_count": 93,
   "id": "c79d8e90",
   "metadata": {},
   "outputs": [
    {
     "data": {
      "image/png": "[encoded data removed]",
      "text/plain": [
       "<Figure size 500x500 with 1 Axes>"
      ]
     },
     "metadata": {},
     "output_type": "display_data"
    }
   ],
   "source": [
    "ax=sns.displot(x ='Age',stat=\"probability\",bins=8,data = fraud)\n",
    "# Show the plot\n",
    "plt.show()"
   ]
  },
  {
   "cell_type": "markdown",
   "id": "5bd47ebe",
   "metadata": {},
   "source": [
    "There are several readings for age=0, which canot be driver .At this point we are not sure what that age column is. \n",
    "Interesting observation is the distribution of age groups and it seems like most \n",
    "case are clustered between age 20 and 60 with significant increase in fraudulent activities for age group 30 to40"
   ]
  },
  {
   "cell_type": "code",
   "execution_count": 94,
   "id": "429cd68c",
   "metadata": {},
   "outputs": [
    {
     "data": {
      "image/png": "[encoded data removed]",
      "text/plain": [
       "<Figure size 1500x400 with 1 Axes>"
      ]
     },
     "metadata": {},
     "output_type": "display_data"
    }
   ],
   "source": [
    "sns.set(style=\"whitegrid\") \n",
    "plt.figure(figsize=(15,4))\n",
    "ax=sns.barplot(data=fraud,x='FraudFound_P', y='FraudFound_P',hue='DayOfWeek',\n",
    "              estimator=lambda x: len(x) / len(fraud) * 100)\n",
    "for container in ax.containers:\n",
    "    ax.bar_label(container)\n",
    "    ax.set(ylabel=\"Percent\")\n",
    "plt.tight_layout()\n",
    "plt.show()"
   ]
  },
  {
   "cell_type": "markdown",
   "id": "9e6f4c97",
   "metadata": {},
   "source": [
    "% of fraudulent transacitons is higher on Monday and Friday. \n",
    "maybe its due to hurry to go to work on Monday or coming back Friday Evening. But we do not have any time data"
   ]
  },
  {
   "cell_type": "markdown",
   "id": "6ad67e8e",
   "metadata": {},
   "source": [
    "#### 6. Vehicle category and impact of sex on fraudulent activites"
   ]
  },
  {
   "cell_type": "code",
   "execution_count": 95,
   "id": "9002ecf2",
   "metadata": {},
   "outputs": [
    {
     "name": "stdout",
     "output_type": "stream",
     "text": [
      "Sex     VehicleCategory\n",
      "Female  Sedan              0.066387\n",
      "        Sport              0.010121\n",
      "        Utility            0.000000\n",
      "Male    Sedan              0.084951\n",
      "        Sport              0.016934\n",
      "        Utility            0.112821\n",
      "Name: FraudFound_P, dtype: float64\n",
      "Sex     VehicleCategory\n",
      "Female  Sedan              0.249045\n",
      "        Sport              0.100146\n",
      "        Utility                 NaN\n",
      "Male    Sedan              0.278826\n",
      "        Sport              0.129038\n",
      "        Utility            0.316780\n",
      "Name: FraudFound_P, dtype: float64\n"
     ]
    },
    {
     "data": {
      "image/png": "[encoded data removed]",
      "text/plain": [
       "<Figure size 1500x400 with 1 Axes>"
      ]
     },
     "metadata": {},
     "output_type": "display_data"
    }
   ],
   "source": [
    "# Vehicle category and impact of sex on all claims \n",
    "sns.set(style=\"whitegrid\") \n",
    "plt.figure(figsize=(15,4))\n",
    "ax=sns.barplot(x = 'Sex', y = 'FraudFound_P', hue = 'VehicleCategory', data = data,\n",
    "            palette = 'hls',\n",
    "            order = ['Male', 'Female'],  \n",
    "            capsize = 0.05,             \n",
    "            saturation = 8,             \n",
    "            errcolor = 'gray', errwidth = 2,  \n",
    "            ci = 'sd'   \n",
    "            )\n",
    "\n",
    "print(data.groupby(['Sex', 'VehicleCategory']).mean()['FraudFound_P'])\n",
    "print(data.groupby(['Sex', 'VehicleCategory']).std()['FraudFound_P'])\n",
    "plt.tight_layout()\n",
    "plt.show()"
   ]
  },
  {
   "cell_type": "code",
   "execution_count": 96,
   "id": "4a01220d",
   "metadata": {},
   "outputs": [
    {
     "data": {
      "image/png": "[encoded data removed]",
      "text/plain": [
       "<Figure size 640x480 with 1 Axes>"
      ]
     },
     "metadata": {},
     "output_type": "display_data"
    }
   ],
   "source": [
    "# vehicle category impact on fruadulent claims\n",
    "sns.set(style=\"whitegrid\") \n",
    "ax=sns.barplot(data=fraud,x='FraudFound_P',y='FraudFound_P',hue='VehicleCategory',estimator=lambda x: len(x) / len(fraud) * 100)\n",
    "for container in ax.containers:\n",
    "    ax.bar_label(container)\n",
    "    ax.set(ylabel=\"Percent\")\n",
    "plt.tight_layout()\n",
    "plt.show()"
   ]
  },
  {
   "cell_type": "code",
   "execution_count": 97,
   "id": "c40db1fa",
   "metadata": {},
   "outputs": [
    {
     "data": {
      "image/png": "[encoded data removed]",
      "text/plain": [
       "<Figure size 640x480 with 1 Axes>"
      ]
     },
     "metadata": {},
     "output_type": "display_data"
    },
    {
     "name": "stdout",
     "output_type": "stream",
     "text": [
      "VehicleCategory\n",
      "Sedan      0.082205\n",
      "Sport      0.015677\n",
      "Utility    0.112532\n",
      "Name: FraudFound_P, dtype: float64\n",
      "VehicleCategory\n",
      "Sedan      0.274690\n",
      "Sport      0.124236\n",
      "Utility    0.316425\n",
      "Name: FraudFound_P, dtype: float64\n"
     ]
    },
    {
     "data": {
      "text/plain": [
       "<Figure size 640x480 with 0 Axes>"
      ]
     },
     "metadata": {},
     "output_type": "display_data"
    }
   ],
   "source": [
    "#vechicle category impact on all claims\n",
    "sns.set(style=\"whitegrid\") \n",
    "ax=sns.barplot(data=data,x='FraudFound_P',y='FraudFound_P',hue='VehicleCategory',estimator=lambda x: len(x) / len(data) * 100)\n",
    "for container in ax.containers:\n",
    "    ax.bar_label(container)\n",
    "    ax.set(ylabel=\"Percent\")\n",
    "plt.tight_layout()\n",
    "plt.show()\n",
    "\n",
    "\n",
    "print(data.groupby(['VehicleCategory']).mean()['FraudFound_P'])\n",
    "print(data.groupby(['VehicleCategory']).std()['FraudFound_P'])\n",
    "plt.tight_layout()\n",
    "plt.show()"
   ]
  },
  {
   "cell_type": "code",
   "execution_count": 98,
   "id": "9f8260db",
   "metadata": {},
   "outputs": [
    {
     "name": "stdout",
     "output_type": "stream",
     "text": [
      "Sex\n",
      "Female    0.043388\n",
      "Male      0.062923\n",
      "Name: FraudFound_P, dtype: float64\n",
      "Sex\n",
      "Female    0.203772\n",
      "Male      0.242834\n",
      "Name: FraudFound_P, dtype: float64\n"
     ]
    },
    {
     "data": {
      "image/png": "[encoded data removed]",
      "text/plain": [
       "<Figure size 1500x400 with 1 Axes>"
      ]
     },
     "metadata": {},
     "output_type": "display_data"
    }
   ],
   "source": [
    "#impact of gender on all claims\n",
    "sns.set(style=\"whitegrid\") \n",
    "plt.figure(figsize=(15,4))\n",
    "ax=sns.barplot(x = 'Sex', y = 'FraudFound_P',  data = data,\n",
    "            palette = 'hls',\n",
    "            capsize = 0.05,             \n",
    "            saturation = 8,             \n",
    "            errcolor = 'gray', errwidth = 2,  \n",
    "            ci = 'sd'   \n",
    "            )\n",
    "\n",
    "print(data.groupby(['Sex']).mean()['FraudFound_P'])\n",
    "print(data.groupby(['Sex']).std()['FraudFound_P'])\n",
    "plt.tight_layout()\n",
    "plt.show()"
   ]
  },
  {
   "cell_type": "markdown",
   "id": "0e1b5bbf",
   "metadata": {},
   "source": [
    "1.Males driving sedan vehicles have higher probablity of fraud\n",
    "\n",
    "2.Overall, Utility vehicles have higher probablity of fraudulent transactions disproportionately.\n"
   ]
  },
  {
   "cell_type": "code",
   "execution_count": 99,
   "id": "4e806a36",
   "metadata": {},
   "outputs": [
    {
     "data": {
      "image/png": "[encoded data removed]",
      "text/plain": [
       "<Figure size 640x480 with 1 Axes>"
      ]
     },
     "metadata": {},
     "output_type": "display_data"
    }
   ],
   "source": [
    "# PERCENTAGE BAR PLOT OF VEHICLE CATEGORY\n",
    "\n",
    "ax = sns.countplot(x='VehicleCategory', data=data)\n",
    "plt.tight_layout()\n",
    "plt.show()\n",
    "\n"
   ]
  },
  {
   "cell_type": "markdown",
   "id": "129337ca",
   "metadata": {},
   "source": [
    "utility vehicles are less likely to be involved in fraud.\n",
    "Most of the claims are coming from sedans. But they are driven the most also."
   ]
  },
  {
   "cell_type": "code",
   "execution_count": 100,
   "id": "f2086d52",
   "metadata": {},
   "outputs": [
    {
     "data": {
      "image/png": "[encoded data removed]",
      "text/plain": [
       "<Figure size 640x480 with 2 Axes>"
      ]
     },
     "metadata": {},
     "output_type": "display_data"
    }
   ],
   "source": [
    "# Group the dataset by VehicleCategory and FraudFound_P \n",
    "group = data.groupby(['VehicleCategory', 'FraudFound_P'])\n",
    "data_heat = group.size().unstack()\n",
    " \n",
    "# Heatmap - Color encoded 2D representation of data.\n",
    "sns.heatmap(data_heat, annot = True, fmt =\"d\")\n",
    "plt.show()"
   ]
  },
  {
   "cell_type": "markdown",
   "id": "4c3408e7",
   "metadata": {},
   "source": [
    "Above correlation matix also indicates sedan vehicles have higher expectation of being involved in fraudulent activities"
   ]
  },
  {
   "cell_type": "markdown",
   "id": "7c521be0",
   "metadata": {},
   "source": [
    "# Topics/ Assumptions to analyize ( what does an vehicle insurance company care)"
   ]
  },
  {
   "cell_type": "markdown",
   "id": "67309e45",
   "metadata": {},
   "source": [
    "# Assumption one\n",
    "Your age, gender and marital status: Statistics show young drivers (with less experience behind the wheel) and male drivers are more likely to have an accident. Married drivers, on the other hand, are less likely to file an accident claim."
   ]
  },
  {
   "cell_type": "code",
   "execution_count": 101,
   "id": "26d7a1dc",
   "metadata": {},
   "outputs": [
    {
     "data": {
      "text/plain": [
       "AgeOfPolicyHolder\n",
       "16 to 17     320\n",
       "18 to 20      15\n",
       "21 to 25     108\n",
       "26 to 30     613\n",
       "31 to 35    5593\n",
       "36 to 40    4043\n",
       "41 to 50    2828\n",
       "51 to 65    1392\n",
       "over 65      508\n",
       "Name: FraudFound_P, dtype: int64"
      ]
     },
     "execution_count": 101,
     "metadata": {},
     "output_type": "execute_result"
    }
   ],
   "source": [
    "# To show number of accidents by age of each policy holder\n",
    "data.groupby(\"AgeOfPolicyHolder\")[\"FraudFound_P\"].count()"
   ]
  },
  {
   "cell_type": "code",
   "execution_count": 102,
   "id": "00c10fc1",
   "metadata": {},
   "outputs": [
    {
     "data": {
      "text/html": [
       "<div>\n",
       "<style scoped>\n",
       "    .dataframe tbody tr th:only-of-type {\n",
       "        vertical-align: middle;\n",
       "    }\n",
       "\n",
       "    .dataframe tbody tr th {\n",
       "        vertical-align: top;\n",
       "    }\n",
       "\n",
       "    .dataframe thead th {\n",
       "        text-align: right;\n",
       "    }\n",
       "</style>\n",
       "<table border=\"1\" class=\"dataframe\">\n",
       "  <thead>\n",
       "    <tr style=\"text-align: right;\">\n",
       "      <th></th>\n",
       "      <th>AgeOfPolicyHolder</th>\n",
       "      <th>Counts</th>\n",
       "    </tr>\n",
       "  </thead>\n",
       "  <tbody>\n",
       "    <tr>\n",
       "      <th>0</th>\n",
       "      <td>16 to 17</td>\n",
       "      <td>289</td>\n",
       "    </tr>\n",
       "    <tr>\n",
       "      <th>1</th>\n",
       "      <td>18 to 20</td>\n",
       "      <td>13</td>\n",
       "    </tr>\n",
       "    <tr>\n",
       "      <th>2</th>\n",
       "      <td>21 to 25</td>\n",
       "      <td>92</td>\n",
       "    </tr>\n",
       "    <tr>\n",
       "      <th>3</th>\n",
       "      <td>26 to 30</td>\n",
       "      <td>580</td>\n",
       "    </tr>\n",
       "    <tr>\n",
       "      <th>4</th>\n",
       "      <td>31 to 35</td>\n",
       "      <td>5233</td>\n",
       "    </tr>\n",
       "    <tr>\n",
       "      <th>5</th>\n",
       "      <td>36 to 40</td>\n",
       "      <td>3806</td>\n",
       "    </tr>\n",
       "    <tr>\n",
       "      <th>6</th>\n",
       "      <td>41 to 50</td>\n",
       "      <td>2684</td>\n",
       "    </tr>\n",
       "    <tr>\n",
       "      <th>7</th>\n",
       "      <td>51 to 65</td>\n",
       "      <td>1322</td>\n",
       "    </tr>\n",
       "    <tr>\n",
       "      <th>8</th>\n",
       "      <td>over 65</td>\n",
       "      <td>478</td>\n",
       "    </tr>\n",
       "  </tbody>\n",
       "</table>\n",
       "</div>"
      ],
      "text/plain": [
       "  AgeOfPolicyHolder  Counts\n",
       "0          16 to 17     289\n",
       "1          18 to 20      13\n",
       "2          21 to 25      92\n",
       "3          26 to 30     580\n",
       "4          31 to 35    5233\n",
       "5          36 to 40    3806\n",
       "6          41 to 50    2684\n",
       "7          51 to 65    1322\n",
       "8           over 65     478"
      ]
     },
     "execution_count": 102,
     "metadata": {},
     "output_type": "execute_result"
    }
   ],
   "source": [
    "#Filter only data that are not fraud (FraudFound_P that are not 1), \n",
    "#since these are the actual insurance claimed that the insurance company cares\n",
    "\n",
    "non_fraud= data.loc[data['FraudFound_P'] == 0]\n",
    "table=non_fraud.groupby([\"AgeOfPolicyHolder\"]).agg({\"AgeOfPolicyHolder\":\"count\"})\n",
    "#Add a new column \"Counts\" to show the number of accidents per each age group\n",
    "table.columns = [\"Counts\"]\n",
    "table.reset_index(inplace=True)\n",
    "table"
   ]
  },
  {
   "cell_type": "code",
   "execution_count": 103,
   "id": "e4a60297",
   "metadata": {},
   "outputs": [
    {
     "data": {
      "text/html": [
       "\n",
       "<div id=\"altair-viz-b49af278f1aa41b08ed8f18aad7dbef8\"></div>\n",
       "<script type=\"text/javascript\">\n",
       "  var VEGA_DEBUG = (typeof VEGA_DEBUG == \"undefined\") ? {} : VEGA_DEBUG;\n",
       "  (function(spec, embedOpt){\n",
       "    let outputDiv = document.currentScript.previousElementSibling;\n",
       "    if (outputDiv.id !== \"altair-viz-b49af278f1aa41b08ed8f18aad7dbef8\") {\n",
       "      outputDiv = document.getElementById(\"altair-viz-b49af278f1aa41b08ed8f18aad7dbef8\");\n",
       "    }\n",
       "    const paths = {\n",
       "      \"vega\": \"https://cdn.jsdelivr.net/npm//vega@5?noext\",\n",
       "      \"vega-lib\": \"https://cdn.jsdelivr.net/npm//vega-lib?noext\",\n",
       "      \"vega-lite\": \"https://cdn.jsdelivr.net/npm//vega-lite@4.17.0?noext\",\n",
       "      \"vega-embed\": \"https://cdn.jsdelivr.net/npm//vega-embed@6?noext\",\n",
       "    };\n",
       "\n",
       "    function maybeLoadScript(lib, version) {\n",
       "      var key = `${lib.replace(\"-\", \"\")}_version`;\n",
       "      return (VEGA_DEBUG[key] == version) ?\n",
       "        Promise.resolve(paths[lib]) :\n",
       "        new Promise(function(resolve, reject) {\n",
       "          var s = document.createElement('script');\n",
       "          document.getElementsByTagName(\"head\")[0].appendChild(s);\n",
       "          s.async = true;\n",
       "          s.onload = () => {\n",
       "            VEGA_DEBUG[key] = version;\n",
       "            return resolve(paths[lib]);\n",
       "          };\n",
       "          s.onerror = () => reject(`Error loading script: ${paths[lib]}`);\n",
       "          s.src = paths[lib];\n",
       "        });\n",
       "    }\n",
       "\n",
       "    function showError(err) {\n",
       "      outputDiv.innerHTML = `<div class=\"error\" style=\"color:red;\">${err}</div>`;\n",
       "      throw err;\n",
       "    }\n",
       "\n",
       "    function displayChart(vegaEmbed) {\n",
       "      vegaEmbed(outputDiv, spec, embedOpt)\n",
       "        .catch(err => showError(`Javascript Error: ${err.message}<br>This usually means there's a typo in your chart specification. See the javascript console for the full traceback.`));\n",
       "    }\n",
       "\n",
       "    if(typeof define === \"function\" && define.amd) {\n",
       "      requirejs.config({paths});\n",
       "      require([\"vega-embed\"], displayChart, err => showError(`Error loading script: ${err.message}`));\n",
       "    } else {\n",
       "      maybeLoadScript(\"vega\", \"5\")\n",
       "        .then(() => maybeLoadScript(\"vega-lite\", \"4.17.0\"))\n",
       "        .then(() => maybeLoadScript(\"vega-embed\", \"6\"))\n",
       "        .catch(showError)\n",
       "        .then(() => displayChart(vegaEmbed));\n",
       "    }\n",
       "  })({\"config\": {\"view\": {\"continuousWidth\": 400, \"continuousHeight\": 300}}, \"data\": {\"url\": \"http://localhost:63320/1c24716804ab3a1737b6a5feefdaf11a.json\"}, \"mark\": \"bar\", \"encoding\": {\"color\": {\"field\": \"AgeOfPolicyHolder\", \"type\": \"nominal\"}, \"x\": {\"field\": \"Counts\", \"type\": \"quantitative\"}, \"y\": {\"field\": \"AgeOfPolicyHolder\", \"sort\": \"-x\", \"type\": \"nominal\"}}, \"height\": 100, \"title\": \"No. of accidents per age group\", \"width\": 800, \"$schema\": \"https://vega.github.io/schema/vega-lite/v4.17.0.json\"}, {\"mode\": \"vega-lite\"});\n",
       "</script>"
      ],
      "text/plain": [
       "alt.Chart(...)"
      ]
     },
     "execution_count": 103,
     "metadata": {},
     "output_type": "execute_result"
    }
   ],
   "source": [
    "# Display number of accidents for each age group of policy holders using bar chart in Altair package (sorting in descending order) \n",
    "alt.Chart(table).mark_bar().encode(\n",
    "   x='Counts:Q',\n",
    "  y=alt.Y('AgeOfPolicyHolder:N', sort='-x'),\n",
    "  color='AgeOfPolicyHolder'\n",
    ").properties(width=800, height=100,title='No. of accidents per age group')\n",
    "\n",
    "# According to the chart, we can indicate that our intial assumptions about young drivers are more likely to have an accident, is not accurate\n",
    "# The highest number of accidents are by 31 to 35 and 36 to 40 (which are the middle age groups)\n",
    "# instead, the young age groups (16-17, 21-25,18-20) are showing lowest number of accidents"
   ]
  },
  {
   "cell_type": "code",
   "execution_count": 104,
   "id": "f81949a1",
   "metadata": {},
   "outputs": [
    {
     "data": {
      "text/html": [
       "<div>\n",
       "<style scoped>\n",
       "    .dataframe tbody tr th:only-of-type {\n",
       "        vertical-align: middle;\n",
       "    }\n",
       "\n",
       "    .dataframe tbody tr th {\n",
       "        vertical-align: top;\n",
       "    }\n",
       "\n",
       "    .dataframe thead th {\n",
       "        text-align: right;\n",
       "    }\n",
       "</style>\n",
       "<table border=\"1\" class=\"dataframe\">\n",
       "  <thead>\n",
       "    <tr style=\"text-align: right;\">\n",
       "      <th></th>\n",
       "      <th>Sex</th>\n",
       "      <th>Counts</th>\n",
       "    </tr>\n",
       "  </thead>\n",
       "  <tbody>\n",
       "    <tr>\n",
       "      <th>0</th>\n",
       "      <td>Female</td>\n",
       "      <td>2315</td>\n",
       "    </tr>\n",
       "    <tr>\n",
       "      <th>1</th>\n",
       "      <td>Male</td>\n",
       "      <td>12182</td>\n",
       "    </tr>\n",
       "  </tbody>\n",
       "</table>\n",
       "</div>"
      ],
      "text/plain": [
       "      Sex  Counts\n",
       "0  Female    2315\n",
       "1    Male   12182"
      ]
     },
     "execution_count": 104,
     "metadata": {},
     "output_type": "execute_result"
    }
   ],
   "source": [
    "table1=non_fraud.groupby([\"Sex\"]).agg({\"Sex\":\"count\"})\n",
    "#Add a new column \"Counts\" to show the number of accidents per each age group\n",
    "table1.columns = [\"Counts\"]\n",
    "table1.reset_index(inplace=True)\n",
    "table1"
   ]
  },
  {
   "cell_type": "code",
   "execution_count": 105,
   "id": "ce6ac43e",
   "metadata": {},
   "outputs": [
    {
     "data": {
      "text/html": [
       "\n",
       "<div id=\"altair-viz-4aca3205f09e4b84aa72b633ea3a4788\"></div>\n",
       "<script type=\"text/javascript\">\n",
       "  var VEGA_DEBUG = (typeof VEGA_DEBUG == \"undefined\") ? {} : VEGA_DEBUG;\n",
       "  (function(spec, embedOpt){\n",
       "    let outputDiv = document.currentScript.previousElementSibling;\n",
       "    if (outputDiv.id !== \"altair-viz-4aca3205f09e4b84aa72b633ea3a4788\") {\n",
       "      outputDiv = document.getElementById(\"altair-viz-4aca3205f09e4b84aa72b633ea3a4788\");\n",
       "    }\n",
       "    const paths = {\n",
       "      \"vega\": \"https://cdn.jsdelivr.net/npm//vega@5?noext\",\n",
       "      \"vega-lib\": \"https://cdn.jsdelivr.net/npm//vega-lib?noext\",\n",
       "      \"vega-lite\": \"https://cdn.jsdelivr.net/npm//vega-lite@4.17.0?noext\",\n",
       "      \"vega-embed\": \"https://cdn.jsdelivr.net/npm//vega-embed@6?noext\",\n",
       "    };\n",
       "\n",
       "    function maybeLoadScript(lib, version) {\n",
       "      var key = `${lib.replace(\"-\", \"\")}_version`;\n",
       "      return (VEGA_DEBUG[key] == version) ?\n",
       "        Promise.resolve(paths[lib]) :\n",
       "        new Promise(function(resolve, reject) {\n",
       "          var s = document.createElement('script');\n",
       "          document.getElementsByTagName(\"head\")[0].appendChild(s);\n",
       "          s.async = true;\n",
       "          s.onload = () => {\n",
       "            VEGA_DEBUG[key] = version;\n",
       "            return resolve(paths[lib]);\n",
       "          };\n",
       "          s.onerror = () => reject(`Error loading script: ${paths[lib]}`);\n",
       "          s.src = paths[lib];\n",
       "        });\n",
       "    }\n",
       "\n",
       "    function showError(err) {\n",
       "      outputDiv.innerHTML = `<div class=\"error\" style=\"color:red;\">${err}</div>`;\n",
       "      throw err;\n",
       "    }\n",
       "\n",
       "    function displayChart(vegaEmbed) {\n",
       "      vegaEmbed(outputDiv, spec, embedOpt)\n",
       "        .catch(err => showError(`Javascript Error: ${err.message}<br>This usually means there's a typo in your chart specification. See the javascript console for the full traceback.`));\n",
       "    }\n",
       "\n",
       "    if(typeof define === \"function\" && define.amd) {\n",
       "      requirejs.config({paths});\n",
       "      require([\"vega-embed\"], displayChart, err => showError(`Error loading script: ${err.message}`));\n",
       "    } else {\n",
       "      maybeLoadScript(\"vega\", \"5\")\n",
       "        .then(() => maybeLoadScript(\"vega-lite\", \"4.17.0\"))\n",
       "        .then(() => maybeLoadScript(\"vega-embed\", \"6\"))\n",
       "        .catch(showError)\n",
       "        .then(() => displayChart(vegaEmbed));\n",
       "    }\n",
       "  })({\"config\": {\"view\": {\"continuousWidth\": 400, \"continuousHeight\": 300}}, \"data\": {\"url\": \"http://localhost:63320/9359a775ed360a31a5bc65e14f0230e4.json\"}, \"mark\": \"bar\", \"encoding\": {\"color\": {\"field\": \"Sex\", \"type\": \"nominal\"}, \"x\": {\"field\": \"Counts\", \"type\": \"quantitative\"}, \"y\": {\"field\": \"Sex\", \"type\": \"nominal\"}}, \"height\": 100, \"title\": \"Number of accidents by gender \", \"width\": 800, \"$schema\": \"https://vega.github.io/schema/vega-lite/v4.17.0.json\"}, {\"mode\": \"vega-lite\"});\n",
       "</script>"
      ],
      "text/plain": [
       "alt.Chart(...)"
      ]
     },
     "execution_count": 105,
     "metadata": {},
     "output_type": "execute_result"
    }
   ],
   "source": [
    "\n",
    "\n",
    "alt.Chart(table1).mark_bar().encode(y=\"Sex\", x='Counts',color='Sex').properties(width=800, height=100,\n",
    "                                                    title='Number of accidents by gender ')"
   ]
  },
  {
   "cell_type": "code",
   "execution_count": 106,
   "id": "9e72c3fd",
   "metadata": {},
   "outputs": [
    {
     "name": "stdout",
     "output_type": "stream",
     "text": [
      "      Sex MaritalStatus  Counts\n",
      "0  Female      Divorced      39\n",
      "1  Female       Married    1261\n",
      "2  Female        Single     993\n",
      "3  Female         Widow      22\n",
      "4    Male      Divorced      34\n",
      "5    Male       Married    8725\n",
      "6    Male        Single    3413\n",
      "7    Male         Widow      10\n"
     ]
    },
    {
     "data": {
      "text/html": [
       "\n",
       "<div id=\"altair-viz-5747e5d0b8e64f87ae19664fd3650219\"></div>\n",
       "<script type=\"text/javascript\">\n",
       "  var VEGA_DEBUG = (typeof VEGA_DEBUG == \"undefined\") ? {} : VEGA_DEBUG;\n",
       "  (function(spec, embedOpt){\n",
       "    let outputDiv = document.currentScript.previousElementSibling;\n",
       "    if (outputDiv.id !== \"altair-viz-5747e5d0b8e64f87ae19664fd3650219\") {\n",
       "      outputDiv = document.getElementById(\"altair-viz-5747e5d0b8e64f87ae19664fd3650219\");\n",
       "    }\n",
       "    const paths = {\n",
       "      \"vega\": \"https://cdn.jsdelivr.net/npm//vega@5?noext\",\n",
       "      \"vega-lib\": \"https://cdn.jsdelivr.net/npm//vega-lib?noext\",\n",
       "      \"vega-lite\": \"https://cdn.jsdelivr.net/npm//vega-lite@4.17.0?noext\",\n",
       "      \"vega-embed\": \"https://cdn.jsdelivr.net/npm//vega-embed@6?noext\",\n",
       "    };\n",
       "\n",
       "    function maybeLoadScript(lib, version) {\n",
       "      var key = `${lib.replace(\"-\", \"\")}_version`;\n",
       "      return (VEGA_DEBUG[key] == version) ?\n",
       "        Promise.resolve(paths[lib]) :\n",
       "        new Promise(function(resolve, reject) {\n",
       "          var s = document.createElement('script');\n",
       "          document.getElementsByTagName(\"head\")[0].appendChild(s);\n",
       "          s.async = true;\n",
       "          s.onload = () => {\n",
       "            VEGA_DEBUG[key] = version;\n",
       "            return resolve(paths[lib]);\n",
       "          };\n",
       "          s.onerror = () => reject(`Error loading script: ${paths[lib]}`);\n",
       "          s.src = paths[lib];\n",
       "        });\n",
       "    }\n",
       "\n",
       "    function showError(err) {\n",
       "      outputDiv.innerHTML = `<div class=\"error\" style=\"color:red;\">${err}</div>`;\n",
       "      throw err;\n",
       "    }\n",
       "\n",
       "    function displayChart(vegaEmbed) {\n",
       "      vegaEmbed(outputDiv, spec, embedOpt)\n",
       "        .catch(err => showError(`Javascript Error: ${err.message}<br>This usually means there's a typo in your chart specification. See the javascript console for the full traceback.`));\n",
       "    }\n",
       "\n",
       "    if(typeof define === \"function\" && define.amd) {\n",
       "      requirejs.config({paths});\n",
       "      require([\"vega-embed\"], displayChart, err => showError(`Error loading script: ${err.message}`));\n",
       "    } else {\n",
       "      maybeLoadScript(\"vega\", \"5\")\n",
       "        .then(() => maybeLoadScript(\"vega-lite\", \"4.17.0\"))\n",
       "        .then(() => maybeLoadScript(\"vega-embed\", \"6\"))\n",
       "        .catch(showError)\n",
       "        .then(() => displayChart(vegaEmbed));\n",
       "    }\n",
       "  })({\"config\": {\"view\": {\"continuousWidth\": 400, \"continuousHeight\": 300}}, \"data\": {\"url\": \"http://localhost:63320/9ea1026339635a1163cd014bee554984.json\"}, \"mark\": \"bar\", \"encoding\": {\"color\": {\"field\": \"MaritalStatus\", \"type\": \"nominal\"}, \"tooltip\": [{\"field\": \"MaritalStatus\", \"type\": \"nominal\"}, {\"field\": \"Counts\", \"type\": \"quantitative\"}], \"x\": {\"field\": \"Counts\", \"type\": \"quantitative\"}, \"y\": {\"field\": \"Sex\", \"type\": \"nominal\"}}, \"height\": 100, \"title\": \"Gender and marital status of the accident victims\", \"width\": 800, \"$schema\": \"https://vega.github.io/schema/vega-lite/v4.17.0.json\"}, {\"mode\": \"vega-lite\"});\n",
       "</script>"
      ],
      "text/plain": [
       "alt.Chart(...)"
      ]
     },
     "execution_count": 106,
     "metadata": {},
     "output_type": "execute_result"
    }
   ],
   "source": [
    "# Gender and marital status of the accident victims (consider with all years)\n",
    "df_sex_maritalstatus =  non_fraud.groupby([\"Sex\", \"MaritalStatus\"]).agg({\"Sex\":\"count\"})\n",
    "df_sex_maritalstatus.columns = [\"Counts\"]\n",
    "df_sex_maritalstatus.reset_index(inplace=True)\n",
    "print(df_sex_maritalstatus.head(10))\n",
    "alt.Chart(df_sex_maritalstatus).mark_bar().encode(y=\"Sex\", x='Counts',color='MaritalStatus',\n",
    "                                                  tooltip=['MaritalStatus','Counts']).properties(width=800, height=100,\n",
    "                                                    title='Gender and marital status of the accident victims')\n",
    "\n",
    "# What we are showing in the chart support our assumption that male drivers are more likely to have an accident; \n",
    "# Moreover, there is a huge difference of number of accidents between male drivers who are married and those who are single ; \n",
    "# while the difference in number of accidents between female drivers who are married or single, is relatively moderate\n",
    "\n",
    "#  We can also conclude that Married drivers are more likely to file an accident claim in this analysis\n",
    "\n",
    "\n",
    "# Include two seperate pie charts to show percentage of each Matital status for Female and male seperately.."
   ]
  },
  {
   "cell_type": "code",
   "execution_count": 107,
   "id": "e0e288cc",
   "metadata": {},
   "outputs": [
    {
     "data": {
      "image/png": "[encoded data removed]",
      "text/plain": [
       "<Figure size 1000x600 with 1 Axes>"
      ]
     },
     "metadata": {},
     "output_type": "display_data"
    }
   ],
   "source": [
    "Female= non_fraud.loc[(non_fraud[\"Sex\"]=='Female')]\n",
    "table12=Female.groupby(\"MaritalStatus\")[\"FraudFound_P\"].count()\n",
    "table12\n",
    "\n",
    "\n",
    "#Using matplotlib\n",
    "pie, ax = plt.subplots(figsize=[10,6])\n",
    "labels = table12.keys()\n",
    "plt.pie(x=table12, autopct=\"%.1f%%\",labels=labels, pctdistance=0.3)\n",
    "plt.title(\"Percentages of accidents by Marital status for Female \", fontsize=14);\n",
    "pie.savefig(\"Percentages of accidents by Marital status for Female.png\")\n",
    "\n",
    "\n",
    "#table11.plot.pie(autopct=\"%.1f%%\")"
   ]
  },
  {
   "cell_type": "markdown",
   "id": "3f20d1ad",
   "metadata": {},
   "source": [
    " the difference in the number of accidents between female drivers who are married or single, is relatively moderate\n"
   ]
  },
  {
   "cell_type": "code",
   "execution_count": 108,
   "id": "90001213",
   "metadata": {},
   "outputs": [
    {
     "data": {
      "image/png": "[encoded data removed]",
      "text/plain": [
       "<Figure size 1000x600 with 1 Axes>"
      ]
     },
     "metadata": {},
     "output_type": "display_data"
    }
   ],
   "source": [
    "Male= non_fraud.loc[(non_fraud[\"Sex\"]=='Male')]\n",
    "table13=Male.groupby(\"MaritalStatus\")[\"FraudFound_P\"].count()\n",
    "table13\n",
    "\n",
    "\n",
    "#Using matplotlib\n",
    "pie, ax = plt.subplots(figsize=[10,6])\n",
    "labels = table13.keys()\n",
    "plt.pie(x=table13, autopct=\"%.1f%%\",labels=labels, pctdistance=0.2)\n",
    "plt.title(\"Percentages of accidents by Marital status for Male \", fontsize=14);\n",
    "pie.savefig(\"Percentages of accidents by Marital status for Male.png\")"
   ]
  },
  {
   "cell_type": "markdown",
   "id": "85e30d24",
   "metadata": {},
   "source": [
    "There is a huge difference of the number of accidents between male drivers who are married (71.62%) and those who are not (28.38%)\n"
   ]
  },
  {
   "cell_type": "code",
   "execution_count": null,
   "id": "8a71ce9d",
   "metadata": {},
   "outputs": [],
   "source": []
  },
  {
   "cell_type": "markdown",
   "id": "856e7685",
   "metadata": {},
   "source": [
    "# Assumption Two\n",
    "Where you live: Someone who lives in an urban area is most likely considered a bigger risk than a policyholder in a rural area with less traffic and fewer car thefts and break-ins."
   ]
  },
  {
   "cell_type": "code",
   "execution_count": 109,
   "id": "89f62a1e",
   "metadata": {},
   "outputs": [
    {
     "data": {
      "text/html": [
       "<div>\n",
       "<style scoped>\n",
       "    .dataframe tbody tr th:only-of-type {\n",
       "        vertical-align: middle;\n",
       "    }\n",
       "\n",
       "    .dataframe tbody tr th {\n",
       "        vertical-align: top;\n",
       "    }\n",
       "\n",
       "    .dataframe thead th {\n",
       "        text-align: right;\n",
       "    }\n",
       "</style>\n",
       "<table border=\"1\" class=\"dataframe\">\n",
       "  <thead>\n",
       "    <tr style=\"text-align: right;\">\n",
       "      <th></th>\n",
       "      <th>AccidentArea</th>\n",
       "      <th>Counts</th>\n",
       "    </tr>\n",
       "  </thead>\n",
       "  <tbody>\n",
       "    <tr>\n",
       "      <th>0</th>\n",
       "      <td>Rural</td>\n",
       "      <td>1465</td>\n",
       "    </tr>\n",
       "    <tr>\n",
       "      <th>1</th>\n",
       "      <td>Urban</td>\n",
       "      <td>13032</td>\n",
       "    </tr>\n",
       "  </tbody>\n",
       "</table>\n",
       "</div>"
      ],
      "text/plain": [
       "  AccidentArea  Counts\n",
       "0        Rural    1465\n",
       "1        Urban   13032"
      ]
     },
     "execution_count": 109,
     "metadata": {},
     "output_type": "execute_result"
    }
   ],
   "source": [
    "# accident by Accident area \n",
    "\n",
    "table2=non_fraud.groupby([\"AccidentArea\"]).agg({\"AccidentArea\":\"count\"})\n",
    "#Add a new column \"Counts\" to show the number of accidents per each age group\n",
    "table2.columns = [\"Counts\"]\n",
    "table2.reset_index(inplace=True)\n",
    "table2"
   ]
  },
  {
   "cell_type": "code",
   "execution_count": 110,
   "id": "b1e35f47",
   "metadata": {},
   "outputs": [
    {
     "data": {
      "text/html": [
       "\n",
       "<div id=\"altair-viz-47969797955a4613b6276dffdbef39bf\"></div>\n",
       "<script type=\"text/javascript\">\n",
       "  var VEGA_DEBUG = (typeof VEGA_DEBUG == \"undefined\") ? {} : VEGA_DEBUG;\n",
       "  (function(spec, embedOpt){\n",
       "    let outputDiv = document.currentScript.previousElementSibling;\n",
       "    if (outputDiv.id !== \"altair-viz-47969797955a4613b6276dffdbef39bf\") {\n",
       "      outputDiv = document.getElementById(\"altair-viz-47969797955a4613b6276dffdbef39bf\");\n",
       "    }\n",
       "    const paths = {\n",
       "      \"vega\": \"https://cdn.jsdelivr.net/npm//vega@5?noext\",\n",
       "      \"vega-lib\": \"https://cdn.jsdelivr.net/npm//vega-lib?noext\",\n",
       "      \"vega-lite\": \"https://cdn.jsdelivr.net/npm//vega-lite@4.17.0?noext\",\n",
       "      \"vega-embed\": \"https://cdn.jsdelivr.net/npm//vega-embed@6?noext\",\n",
       "    };\n",
       "\n",
       "    function maybeLoadScript(lib, version) {\n",
       "      var key = `${lib.replace(\"-\", \"\")}_version`;\n",
       "      return (VEGA_DEBUG[key] == version) ?\n",
       "        Promise.resolve(paths[lib]) :\n",
       "        new Promise(function(resolve, reject) {\n",
       "          var s = document.createElement('script');\n",
       "          document.getElementsByTagName(\"head\")[0].appendChild(s);\n",
       "          s.async = true;\n",
       "          s.onload = () => {\n",
       "            VEGA_DEBUG[key] = version;\n",
       "            return resolve(paths[lib]);\n",
       "          };\n",
       "          s.onerror = () => reject(`Error loading script: ${paths[lib]}`);\n",
       "          s.src = paths[lib];\n",
       "        });\n",
       "    }\n",
       "\n",
       "    function showError(err) {\n",
       "      outputDiv.innerHTML = `<div class=\"error\" style=\"color:red;\">${err}</div>`;\n",
       "      throw err;\n",
       "    }\n",
       "\n",
       "    function displayChart(vegaEmbed) {\n",
       "      vegaEmbed(outputDiv, spec, embedOpt)\n",
       "        .catch(err => showError(`Javascript Error: ${err.message}<br>This usually means there's a typo in your chart specification. See the javascript console for the full traceback.`));\n",
       "    }\n",
       "\n",
       "    if(typeof define === \"function\" && define.amd) {\n",
       "      requirejs.config({paths});\n",
       "      require([\"vega-embed\"], displayChart, err => showError(`Error loading script: ${err.message}`));\n",
       "    } else {\n",
       "      maybeLoadScript(\"vega\", \"5\")\n",
       "        .then(() => maybeLoadScript(\"vega-lite\", \"4.17.0\"))\n",
       "        .then(() => maybeLoadScript(\"vega-embed\", \"6\"))\n",
       "        .catch(showError)\n",
       "        .then(() => displayChart(vegaEmbed));\n",
       "    }\n",
       "  })({\"config\": {\"view\": {\"continuousWidth\": 400, \"continuousHeight\": 300}}, \"data\": {\"url\": \"http://localhost:63320/41b4e42c4ef63e091e3fbe3fbab68c94.json\"}, \"mark\": \"bar\", \"encoding\": {\"color\": {\"field\": \"AccidentArea\", \"type\": \"nominal\"}, \"x\": {\"aggregate\": \"count\", \"field\": \"AccidentArea\", \"type\": \"quantitative\"}, \"y\": {\"field\": \"AccidentArea\", \"sort\": \"-x\", \"type\": \"nominal\"}}, \"height\": 150, \"title\": \"Count of accidents by Accident area in\", \"width\": 600, \"$schema\": \"https://vega.github.io/schema/vega-lite/v4.17.0.json\"}, {\"mode\": \"vega-lite\"});\n",
       "</script>"
      ],
      "text/plain": [
       "alt.Chart(...)"
      ]
     },
     "execution_count": 110,
     "metadata": {},
     "output_type": "execute_result"
    }
   ],
   "source": [
    "# Plotting the bar chart using Altair package\n",
    "alt.Chart(non_fraud).mark_bar().encode(\n",
    "    x='count(AccidentArea):Q',\n",
    "    y=alt.Y('AccidentArea:N', sort='-x'),\n",
    "    color='AccidentArea'\n",
    ").properties(width=600, height=150,title='Count of accidents by Accident area in')\n",
    "\n",
    "#"
   ]
  },
  {
   "cell_type": "code",
   "execution_count": 111,
   "id": "c518429b",
   "metadata": {},
   "outputs": [
    {
     "data": {
      "text/html": [
       "<div>\n",
       "<style scoped>\n",
       "    .dataframe tbody tr th:only-of-type {\n",
       "        vertical-align: middle;\n",
       "    }\n",
       "\n",
       "    .dataframe tbody tr th {\n",
       "        vertical-align: top;\n",
       "    }\n",
       "\n",
       "    .dataframe thead th {\n",
       "        text-align: right;\n",
       "    }\n",
       "</style>\n",
       "<table border=\"1\" class=\"dataframe\">\n",
       "  <thead>\n",
       "    <tr style=\"text-align: right;\">\n",
       "      <th></th>\n",
       "      <th>AccidentArea</th>\n",
       "      <th>VehicleCategory</th>\n",
       "      <th>Counts</th>\n",
       "    </tr>\n",
       "  </thead>\n",
       "  <tbody>\n",
       "    <tr>\n",
       "      <th>0</th>\n",
       "      <td>Rural</td>\n",
       "      <td>Sedan</td>\n",
       "      <td>1012</td>\n",
       "    </tr>\n",
       "    <tr>\n",
       "      <th>1</th>\n",
       "      <td>Rural</td>\n",
       "      <td>Sport</td>\n",
       "      <td>404</td>\n",
       "    </tr>\n",
       "    <tr>\n",
       "      <th>2</th>\n",
       "      <td>Rural</td>\n",
       "      <td>Utility</td>\n",
       "      <td>49</td>\n",
       "    </tr>\n",
       "    <tr>\n",
       "      <th>3</th>\n",
       "      <td>Urban</td>\n",
       "      <td>Sedan</td>\n",
       "      <td>7864</td>\n",
       "    </tr>\n",
       "    <tr>\n",
       "      <th>4</th>\n",
       "      <td>Urban</td>\n",
       "      <td>Sport</td>\n",
       "      <td>4870</td>\n",
       "    </tr>\n",
       "    <tr>\n",
       "      <th>5</th>\n",
       "      <td>Urban</td>\n",
       "      <td>Utility</td>\n",
       "      <td>298</td>\n",
       "    </tr>\n",
       "  </tbody>\n",
       "</table>\n",
       "</div>"
      ],
      "text/plain": [
       "  AccidentArea VehicleCategory  Counts\n",
       "0        Rural           Sedan    1012\n",
       "1        Rural           Sport     404\n",
       "2        Rural         Utility      49\n",
       "3        Urban           Sedan    7864\n",
       "4        Urban           Sport    4870\n",
       "5        Urban         Utility     298"
      ]
     },
     "execution_count": 111,
     "metadata": {},
     "output_type": "execute_result"
    }
   ],
   "source": [
    "# accident by Accident area and Vehicle Category\n",
    "\n",
    "table3=non_fraud.groupby([\"AccidentArea\",\"VehicleCategory\"]).agg({\"AccidentArea\":\"count\"})\n",
    "#Add a new column \"Counts\" to show the number of accidents per each Accident area and Vehicle Category\n",
    "table3.columns = [\"Counts\"]\n",
    "table3.reset_index(inplace=True)\n",
    "table3"
   ]
  },
  {
   "cell_type": "code",
   "execution_count": 112,
   "id": "c22d2e65",
   "metadata": {},
   "outputs": [
    {
     "data": {
      "text/html": [
       "\n",
       "<div id=\"altair-viz-2ca90a5a52774937b83c37bd42a6c30f\"></div>\n",
       "<script type=\"text/javascript\">\n",
       "  var VEGA_DEBUG = (typeof VEGA_DEBUG == \"undefined\") ? {} : VEGA_DEBUG;\n",
       "  (function(spec, embedOpt){\n",
       "    let outputDiv = document.currentScript.previousElementSibling;\n",
       "    if (outputDiv.id !== \"altair-viz-2ca90a5a52774937b83c37bd42a6c30f\") {\n",
       "      outputDiv = document.getElementById(\"altair-viz-2ca90a5a52774937b83c37bd42a6c30f\");\n",
       "    }\n",
       "    const paths = {\n",
       "      \"vega\": \"https://cdn.jsdelivr.net/npm//vega@5?noext\",\n",
       "      \"vega-lib\": \"https://cdn.jsdelivr.net/npm//vega-lib?noext\",\n",
       "      \"vega-lite\": \"https://cdn.jsdelivr.net/npm//vega-lite@4.17.0?noext\",\n",
       "      \"vega-embed\": \"https://cdn.jsdelivr.net/npm//vega-embed@6?noext\",\n",
       "    };\n",
       "\n",
       "    function maybeLoadScript(lib, version) {\n",
       "      var key = `${lib.replace(\"-\", \"\")}_version`;\n",
       "      return (VEGA_DEBUG[key] == version) ?\n",
       "        Promise.resolve(paths[lib]) :\n",
       "        new Promise(function(resolve, reject) {\n",
       "          var s = document.createElement('script');\n",
       "          document.getElementsByTagName(\"head\")[0].appendChild(s);\n",
       "          s.async = true;\n",
       "          s.onload = () => {\n",
       "            VEGA_DEBUG[key] = version;\n",
       "            return resolve(paths[lib]);\n",
       "          };\n",
       "          s.onerror = () => reject(`Error loading script: ${paths[lib]}`);\n",
       "          s.src = paths[lib];\n",
       "        });\n",
       "    }\n",
       "\n",
       "    function showError(err) {\n",
       "      outputDiv.innerHTML = `<div class=\"error\" style=\"color:red;\">${err}</div>`;\n",
       "      throw err;\n",
       "    }\n",
       "\n",
       "    function displayChart(vegaEmbed) {\n",
       "      vegaEmbed(outputDiv, spec, embedOpt)\n",
       "        .catch(err => showError(`Javascript Error: ${err.message}<br>This usually means there's a typo in your chart specification. See the javascript console for the full traceback.`));\n",
       "    }\n",
       "\n",
       "    if(typeof define === \"function\" && define.amd) {\n",
       "      requirejs.config({paths});\n",
       "      require([\"vega-embed\"], displayChart, err => showError(`Error loading script: ${err.message}`));\n",
       "    } else {\n",
       "      maybeLoadScript(\"vega\", \"5\")\n",
       "        .then(() => maybeLoadScript(\"vega-lite\", \"4.17.0\"))\n",
       "        .then(() => maybeLoadScript(\"vega-embed\", \"6\"))\n",
       "        .catch(showError)\n",
       "        .then(() => displayChart(vegaEmbed));\n",
       "    }\n",
       "  })({\"config\": {\"view\": {\"continuousWidth\": 400, \"continuousHeight\": 300}}, \"data\": {\"url\": \"http://localhost:63320/41b4e42c4ef63e091e3fbe3fbab68c94.json\"}, \"mark\": \"bar\", \"encoding\": {\"color\": {\"field\": \"VehicleCategory\", \"type\": \"nominal\"}, \"x\": {\"aggregate\": \"count\", \"field\": \"VehicleCategory\", \"type\": \"quantitative\"}, \"y\": {\"field\": \"AccidentArea\", \"sort\": \"-x\", \"type\": \"nominal\"}}, \"height\": 100, \"title\": \"vehicle category involved in the accident by Accident area\", \"width\": 800, \"$schema\": \"https://vega.github.io/schema/vega-lite/v4.17.0.json\"}, {\"mode\": \"vega-lite\"});\n",
       "</script>"
      ],
      "text/plain": [
       "alt.Chart(...)"
      ]
     },
     "execution_count": 112,
     "metadata": {},
     "output_type": "execute_result"
    }
   ],
   "source": [
    "#vechle category involved in the accident by Accident area \n",
    "alt.Chart(non_fraud).mark_bar().encode(\n",
    "    x='count(VehicleCategory):Q',\n",
    "    y=alt.Y('AccidentArea:N', sort='-x'),\n",
    "    color='VehicleCategory'\n",
    ").properties(width=800, height=100,title='vehicle category involved in the accident by Accident area')\n",
    "\n",
    "\n",
    "\n",
    "#From the graphs, it is clear that most of the  accidents occur in Urban areas \n",
    "#as they are highly populated with more traffic issues and crime rates\n",
    "#Sedan has the highest number of accidents in both urban and rural areas\n"
   ]
  },
  {
   "cell_type": "code",
   "execution_count": 113,
   "id": "f9d78398",
   "metadata": {},
   "outputs": [
    {
     "data": {
      "text/html": [
       "\n",
       "<div id=\"altair-viz-c9319cea2e7141b3a426bba363814d0a\"></div>\n",
       "<script type=\"text/javascript\">\n",
       "  var VEGA_DEBUG = (typeof VEGA_DEBUG == \"undefined\") ? {} : VEGA_DEBUG;\n",
       "  (function(spec, embedOpt){\n",
       "    let outputDiv = document.currentScript.previousElementSibling;\n",
       "    if (outputDiv.id !== \"altair-viz-c9319cea2e7141b3a426bba363814d0a\") {\n",
       "      outputDiv = document.getElementById(\"altair-viz-c9319cea2e7141b3a426bba363814d0a\");\n",
       "    }\n",
       "    const paths = {\n",
       "      \"vega\": \"https://cdn.jsdelivr.net/npm//vega@5?noext\",\n",
       "      \"vega-lib\": \"https://cdn.jsdelivr.net/npm//vega-lib?noext\",\n",
       "      \"vega-lite\": \"https://cdn.jsdelivr.net/npm//vega-lite@4.17.0?noext\",\n",
       "      \"vega-embed\": \"https://cdn.jsdelivr.net/npm//vega-embed@6?noext\",\n",
       "    };\n",
       "\n",
       "    function maybeLoadScript(lib, version) {\n",
       "      var key = `${lib.replace(\"-\", \"\")}_version`;\n",
       "      return (VEGA_DEBUG[key] == version) ?\n",
       "        Promise.resolve(paths[lib]) :\n",
       "        new Promise(function(resolve, reject) {\n",
       "          var s = document.createElement('script');\n",
       "          document.getElementsByTagName(\"head\")[0].appendChild(s);\n",
       "          s.async = true;\n",
       "          s.onload = () => {\n",
       "            VEGA_DEBUG[key] = version;\n",
       "            return resolve(paths[lib]);\n",
       "          };\n",
       "          s.onerror = () => reject(`Error loading script: ${paths[lib]}`);\n",
       "          s.src = paths[lib];\n",
       "        });\n",
       "    }\n",
       "\n",
       "    function showError(err) {\n",
       "      outputDiv.innerHTML = `<div class=\"error\" style=\"color:red;\">${err}</div>`;\n",
       "      throw err;\n",
       "    }\n",
       "\n",
       "    function displayChart(vegaEmbed) {\n",
       "      vegaEmbed(outputDiv, spec, embedOpt)\n",
       "        .catch(err => showError(`Javascript Error: ${err.message}<br>This usually means there's a typo in your chart specification. See the javascript console for the full traceback.`));\n",
       "    }\n",
       "\n",
       "    if(typeof define === \"function\" && define.amd) {\n",
       "      requirejs.config({paths});\n",
       "      require([\"vega-embed\"], displayChart, err => showError(`Error loading script: ${err.message}`));\n",
       "    } else {\n",
       "      maybeLoadScript(\"vega\", \"5\")\n",
       "        .then(() => maybeLoadScript(\"vega-lite\", \"4.17.0\"))\n",
       "        .then(() => maybeLoadScript(\"vega-embed\", \"6\"))\n",
       "        .catch(showError)\n",
       "        .then(() => displayChart(vegaEmbed));\n",
       "    }\n",
       "  })({\"config\": {\"view\": {\"continuousWidth\": 400, \"continuousHeight\": 300}}, \"layer\": [{\"mark\": {\"type\": \"arc\", \"innerRadius\": 75}, \"encoding\": {\"color\": {\"field\": \"VehicleCategory\", \"type\": \"nominal\"}, \"theta\": {\"field\": \"Counts\", \"stack\": true, \"type\": \"quantitative\"}}, \"title\": \"Urban\"}, {\"mark\": {\"type\": \"text\", \"fontSize\": 10, \"radius\": 170}, \"encoding\": {\"color\": {\"field\": \"VehicleCategory\", \"type\": \"nominal\"}, \"text\": {\"field\": \"Counts\", \"type\": \"quantitative\"}, \"theta\": {\"field\": \"Counts\", \"stack\": true, \"type\": \"quantitative\"}}, \"title\": \"Urban\"}], \"data\": {\"url\": \"http://localhost:63320/4da81a4ac3e5daa90f6ec486aa0f85c8.json\"}, \"$schema\": \"https://vega.github.io/schema/vega-lite/v4.17.0.json\"}, {\"mode\": \"vega-lite\"});\n",
       "</script>"
      ],
      "text/plain": [
       "alt.LayerChart(...)"
      ]
     },
     "execution_count": 113,
     "metadata": {},
     "output_type": "execute_result"
    }
   ],
   "source": [
    "#filtering the data for urban as the accident area\n",
    "non_fraud_urban1=non_fraud.loc[(non_fraud[\"AccidentArea\"]=='Urban')]\n",
    "non_fraud_urban1\n",
    "table5=non_fraud_urban1.groupby([\"AccidentArea\",\"VehicleCategory\"]).agg({\"AccidentArea\":\"count\"})\n",
    "#Add a new column \"Counts\" to show the number of accidents in urban for different Vehicle Category\n",
    "table5.columns = [\"Counts\"]\n",
    "table5.reset_index(inplace=True)\n",
    "table5\n",
    "# displaying the groupby using chart\n",
    "pie = alt.Chart(table5).mark_arc(innerRadius=75).encode(\n",
    "theta=alt.Theta(field=\"Counts\", type=\"quantitative\",stack=True),\n",
    "color=alt.Color(field=\"VehicleCategory\",type=\"nominal\"),\n",
    ").properties(title=\"Urban\")\n",
    "\n",
    "pie + pie.mark_text(radius=170, fontSize=10).encode(text='Counts')\n",
    "\n",
    "\n"
   ]
  },
  {
   "cell_type": "code",
   "execution_count": 114,
   "id": "e6c862c6",
   "metadata": {},
   "outputs": [
    {
     "data": {
      "text/html": [
       "\n",
       "<div id=\"altair-viz-e445855acd2b4876bb90a534485d7f28\"></div>\n",
       "<script type=\"text/javascript\">\n",
       "  var VEGA_DEBUG = (typeof VEGA_DEBUG == \"undefined\") ? {} : VEGA_DEBUG;\n",
       "  (function(spec, embedOpt){\n",
       "    let outputDiv = document.currentScript.previousElementSibling;\n",
       "    if (outputDiv.id !== \"altair-viz-e445855acd2b4876bb90a534485d7f28\") {\n",
       "      outputDiv = document.getElementById(\"altair-viz-e445855acd2b4876bb90a534485d7f28\");\n",
       "    }\n",
       "    const paths = {\n",
       "      \"vega\": \"https://cdn.jsdelivr.net/npm//vega@5?noext\",\n",
       "      \"vega-lib\": \"https://cdn.jsdelivr.net/npm//vega-lib?noext\",\n",
       "      \"vega-lite\": \"https://cdn.jsdelivr.net/npm//vega-lite@4.17.0?noext\",\n",
       "      \"vega-embed\": \"https://cdn.jsdelivr.net/npm//vega-embed@6?noext\",\n",
       "    };\n",
       "\n",
       "    function maybeLoadScript(lib, version) {\n",
       "      var key = `${lib.replace(\"-\", \"\")}_version`;\n",
       "      return (VEGA_DEBUG[key] == version) ?\n",
       "        Promise.resolve(paths[lib]) :\n",
       "        new Promise(function(resolve, reject) {\n",
       "          var s = document.createElement('script');\n",
       "          document.getElementsByTagName(\"head\")[0].appendChild(s);\n",
       "          s.async = true;\n",
       "          s.onload = () => {\n",
       "            VEGA_DEBUG[key] = version;\n",
       "            return resolve(paths[lib]);\n",
       "          };\n",
       "          s.onerror = () => reject(`Error loading script: ${paths[lib]}`);\n",
       "          s.src = paths[lib];\n",
       "        });\n",
       "    }\n",
       "\n",
       "    function showError(err) {\n",
       "      outputDiv.innerHTML = `<div class=\"error\" style=\"color:red;\">${err}</div>`;\n",
       "      throw err;\n",
       "    }\n",
       "\n",
       "    function displayChart(vegaEmbed) {\n",
       "      vegaEmbed(outputDiv, spec, embedOpt)\n",
       "        .catch(err => showError(`Javascript Error: ${err.message}<br>This usually means there's a typo in your chart specification. See the javascript console for the full traceback.`));\n",
       "    }\n",
       "\n",
       "    if(typeof define === \"function\" && define.amd) {\n",
       "      requirejs.config({paths});\n",
       "      require([\"vega-embed\"], displayChart, err => showError(`Error loading script: ${err.message}`));\n",
       "    } else {\n",
       "      maybeLoadScript(\"vega\", \"5\")\n",
       "        .then(() => maybeLoadScript(\"vega-lite\", \"4.17.0\"))\n",
       "        .then(() => maybeLoadScript(\"vega-embed\", \"6\"))\n",
       "        .catch(showError)\n",
       "        .then(() => displayChart(vegaEmbed));\n",
       "    }\n",
       "  })({\"config\": {\"view\": {\"continuousWidth\": 400, \"continuousHeight\": 300}}, \"layer\": [{\"mark\": {\"type\": \"arc\", \"innerRadius\": 75}, \"encoding\": {\"color\": {\"field\": \"VehicleCategory\", \"type\": \"nominal\"}, \"theta\": {\"field\": \"Counts\", \"stack\": true, \"type\": \"quantitative\"}}, \"title\": \"Rural\"}, {\"mark\": {\"type\": \"text\", \"fontSize\": 10, \"radius\": 170}, \"encoding\": {\"color\": {\"field\": \"VehicleCategory\", \"type\": \"nominal\"}, \"text\": {\"field\": \"Counts\", \"type\": \"quantitative\"}, \"theta\": {\"field\": \"Counts\", \"stack\": true, \"type\": \"quantitative\"}}, \"title\": \"Rural\"}], \"data\": {\"url\": \"http://localhost:63320/1d2d8403ba7bcebdeedb6a96ca0290bf.json\"}, \"$schema\": \"https://vega.github.io/schema/vega-lite/v4.17.0.json\"}, {\"mode\": \"vega-lite\"});\n",
       "</script>"
      ],
      "text/plain": [
       "alt.LayerChart(...)"
      ]
     },
     "execution_count": 114,
     "metadata": {},
     "output_type": "execute_result"
    }
   ],
   "source": [
    "\n",
    "non_fraud_rural1=non_fraud.loc[(non_fraud[\"AccidentArea\"]=='Rural')]\n",
    "non_fraud_rural1\n",
    "table7=non_fraud_rural1.groupby([\"AccidentArea\",\"VehicleCategory\"]).agg({\"AccidentArea\":\"count\"})\n",
    "#Add a new column \"Counts\" to show the number of accidents in urban for different Vehicle Category\n",
    "table7.columns = [\"Counts\"]\n",
    "table7.reset_index(inplace=True)\n",
    "table7\n",
    "pie = alt.Chart(table7).mark_arc(innerRadius=75).encode(\n",
    "theta=alt.Theta(field=\"Counts\", type=\"quantitative\",stack=True),\n",
    "color=alt.Color(field=\"VehicleCategory\",type=\"nominal\"),\n",
    ").properties(title=\"Rural\")\n",
    "\n",
    "pie + pie.mark_text(radius=170, fontSize=10).encode(text='Counts')\n",
    "\n",
    "\n"
   ]
  },
  {
   "cell_type": "markdown",
   "id": "e22183c1",
   "metadata": {},
   "source": [
    "Most of the claims are coming from sedans. But they are driven the most also.\n",
    "sedan vehicles have a higher expectation of being involved in fraudulent activities\n",
    "utility vehicles are less likely to be involved in fraud. \n"
   ]
  },
  {
   "cell_type": "markdown",
   "id": "8577f123",
   "metadata": {},
   "source": [
    "# Assumption 3\n",
    "missing police reports, no witnesses:When there is no witness and the accident is not reported, it is more likely to be an fraud"
   ]
  },
  {
   "cell_type": "code",
   "execution_count": 115,
   "id": "9c9e0a6f",
   "metadata": {},
   "outputs": [],
   "source": [
    "#Filter only data that are fraud (FraudFound_P = 1), \n",
    "fraud= data.loc[data['FraudFound_P'] == 1]"
   ]
  },
  {
   "cell_type": "code",
   "execution_count": 116,
   "id": "d1d1c121",
   "metadata": {},
   "outputs": [
    {
     "data": {
      "text/html": [
       "<div>\n",
       "<style scoped>\n",
       "    .dataframe tbody tr th:only-of-type {\n",
       "        vertical-align: middle;\n",
       "    }\n",
       "\n",
       "    .dataframe tbody tr th {\n",
       "        vertical-align: top;\n",
       "    }\n",
       "\n",
       "    .dataframe thead th {\n",
       "        text-align: right;\n",
       "    }\n",
       "</style>\n",
       "<table border=\"1\" class=\"dataframe\">\n",
       "  <thead>\n",
       "    <tr style=\"text-align: right;\">\n",
       "      <th></th>\n",
       "      <th>WitnessPresent</th>\n",
       "      <th>PoliceReportFiled</th>\n",
       "      <th>FraudFound_P</th>\n",
       "      <th>Counts</th>\n",
       "    </tr>\n",
       "  </thead>\n",
       "  <tbody>\n",
       "    <tr>\n",
       "      <th>0</th>\n",
       "      <td>No</td>\n",
       "      <td>No</td>\n",
       "      <td>1</td>\n",
       "      <td>905</td>\n",
       "    </tr>\n",
       "    <tr>\n",
       "      <th>1</th>\n",
       "      <td>No</td>\n",
       "      <td>Yes</td>\n",
       "      <td>1</td>\n",
       "      <td>15</td>\n",
       "    </tr>\n",
       "    <tr>\n",
       "      <th>2</th>\n",
       "      <td>Yes</td>\n",
       "      <td>No</td>\n",
       "      <td>1</td>\n",
       "      <td>2</td>\n",
       "    </tr>\n",
       "    <tr>\n",
       "      <th>3</th>\n",
       "      <td>Yes</td>\n",
       "      <td>Yes</td>\n",
       "      <td>1</td>\n",
       "      <td>1</td>\n",
       "    </tr>\n",
       "  </tbody>\n",
       "</table>\n",
       "</div>"
      ],
      "text/plain": [
       "  WitnessPresent PoliceReportFiled  FraudFound_P  Counts\n",
       "0             No                No             1     905\n",
       "1             No               Yes             1      15\n",
       "2            Yes                No             1       2\n",
       "3            Yes               Yes             1       1"
      ]
     },
     "execution_count": 116,
     "metadata": {},
     "output_type": "execute_result"
    }
   ],
   "source": [
    "table11=fraud.groupby([\"WitnessPresent\",\"PoliceReportFiled\",\"FraudFound_P\"]).agg({\"PoliceReportFiled\":\"count\"})\n",
    "#Add a new column \"Counts\" to show the number of accidents coresponding to witnesspresent and policereportfiled for fraud data\n",
    "table11.columns = [\"Counts\"]\n",
    "table11.reset_index(inplace=True)\n",
    "table11\n"
   ]
  },
  {
   "cell_type": "markdown",
   "id": "682e8df3",
   "metadata": {},
   "source": [
    "From the chart, it is clear that the number of fraud is higher when there is no witness and no report is filed.\n",
    "When there is a witness or police report is filed, the number of fraud is reduced.\n"
   ]
  },
  {
   "cell_type": "markdown",
   "id": "2cbae61b",
   "metadata": {},
   "source": [
    "# assumption 4\n",
    "analysing fraud based on past number of claims"
   ]
  },
  {
   "cell_type": "code",
   "execution_count": 117,
   "id": "c411e42a",
   "metadata": {},
   "outputs": [
    {
     "data": {
      "text/html": [
       "<div>\n",
       "<style scoped>\n",
       "    .dataframe tbody tr th:only-of-type {\n",
       "        vertical-align: middle;\n",
       "    }\n",
       "\n",
       "    .dataframe tbody tr th {\n",
       "        vertical-align: top;\n",
       "    }\n",
       "\n",
       "    .dataframe thead th {\n",
       "        text-align: right;\n",
       "    }\n",
       "</style>\n",
       "<table border=\"1\" class=\"dataframe\">\n",
       "  <thead>\n",
       "    <tr style=\"text-align: right;\">\n",
       "      <th></th>\n",
       "      <th>PastNumberOfClaims</th>\n",
       "      <th>FraudFound_P</th>\n",
       "      <th>Counts</th>\n",
       "    </tr>\n",
       "  </thead>\n",
       "  <tbody>\n",
       "    <tr>\n",
       "      <th>0</th>\n",
       "      <td>1</td>\n",
       "      <td>1</td>\n",
       "      <td>222</td>\n",
       "    </tr>\n",
       "    <tr>\n",
       "      <th>1</th>\n",
       "      <td>2 to 4</td>\n",
       "      <td>1</td>\n",
       "      <td>294</td>\n",
       "    </tr>\n",
       "    <tr>\n",
       "      <th>2</th>\n",
       "      <td>more than 4</td>\n",
       "      <td>1</td>\n",
       "      <td>68</td>\n",
       "    </tr>\n",
       "    <tr>\n",
       "      <th>3</th>\n",
       "      <td>none</td>\n",
       "      <td>1</td>\n",
       "      <td>339</td>\n",
       "    </tr>\n",
       "  </tbody>\n",
       "</table>\n",
       "</div>"
      ],
      "text/plain": [
       "  PastNumberOfClaims  FraudFound_P  Counts\n",
       "0                  1             1     222\n",
       "1             2 to 4             1     294\n",
       "2        more than 4             1      68\n",
       "3               none             1     339"
      ]
     },
     "execution_count": 117,
     "metadata": {},
     "output_type": "execute_result"
    }
   ],
   "source": [
    "table12=fraud.groupby([\"PastNumberOfClaims\",\"FraudFound_P\"]).agg({\"PastNumberOfClaims\":\"count\"})\n",
    "#Add a new column \"Counts\" to show the number of accidents with PastNumberOfClaims\n",
    "table12.columns = [\"Counts\"]\n",
    "table12.reset_index(inplace=True)\n",
    "table12\n"
   ]
  },
  {
   "cell_type": "markdown",
   "id": "553cfba9",
   "metadata": {},
   "source": [
    "When the past number of claims is between 2-4, the fraud found is 294 but when the past number of claims is more than 4 it is reduced to 68 and the assumption is not entirely accurate in this case.\n"
   ]
  },
  {
   "cell_type": "markdown",
   "id": "2513f616",
   "metadata": {},
   "source": [
    "# Assumption 5\n",
    "A more expensive vehicle doesn’t always cost more to insure"
   ]
  },
  {
   "cell_type": "code",
   "execution_count": 118,
   "id": "283696ad",
   "metadata": {},
   "outputs": [
    {
     "data": {
      "text/html": [
       "<div>\n",
       "<style scoped>\n",
       "    .dataframe tbody tr th:only-of-type {\n",
       "        vertical-align: middle;\n",
       "    }\n",
       "\n",
       "    .dataframe tbody tr th {\n",
       "        vertical-align: top;\n",
       "    }\n",
       "\n",
       "    .dataframe thead th {\n",
       "        text-align: right;\n",
       "    }\n",
       "</style>\n",
       "<table border=\"1\" class=\"dataframe\">\n",
       "  <thead>\n",
       "    <tr style=\"text-align: right;\">\n",
       "      <th></th>\n",
       "      <th></th>\n",
       "      <th>Deductible</th>\n",
       "    </tr>\n",
       "    <tr>\n",
       "      <th>Make</th>\n",
       "      <th>VehiclePrice</th>\n",
       "      <th></th>\n",
       "    </tr>\n",
       "  </thead>\n",
       "  <tbody>\n",
       "    <tr>\n",
       "      <th rowspan=\"2\" valign=\"top\">Saab</th>\n",
       "      <th>40000 to 59000</th>\n",
       "      <td>480.000000</td>\n",
       "    </tr>\n",
       "    <tr>\n",
       "      <th>20000 to 29000</th>\n",
       "      <td>454.545455</td>\n",
       "    </tr>\n",
       "    <tr>\n",
       "      <th>Mecedes</th>\n",
       "      <th>more than 69000</th>\n",
       "      <td>450.000000</td>\n",
       "    </tr>\n",
       "    <tr>\n",
       "      <th>Nisson</th>\n",
       "      <th>more than 69000</th>\n",
       "      <td>423.076923</td>\n",
       "    </tr>\n",
       "    <tr>\n",
       "      <th>Ford</th>\n",
       "      <th>20000 to 29000</th>\n",
       "      <td>418.421053</td>\n",
       "    </tr>\n",
       "    <tr>\n",
       "      <th>...</th>\n",
       "      <th>...</th>\n",
       "      <td>...</td>\n",
       "    </tr>\n",
       "    <tr>\n",
       "      <th>Jaguar</th>\n",
       "      <th>30000 to 39000</th>\n",
       "      <td>400.000000</td>\n",
       "    </tr>\n",
       "    <tr>\n",
       "      <th>BMW</th>\n",
       "      <th>more than 69000</th>\n",
       "      <td>400.000000</td>\n",
       "    </tr>\n",
       "    <tr>\n",
       "      <th>Nisson</th>\n",
       "      <th>40000 to 59000</th>\n",
       "      <td>400.000000</td>\n",
       "    </tr>\n",
       "    <tr>\n",
       "      <th>Mercury</th>\n",
       "      <th>20000 to 29000</th>\n",
       "      <td>400.000000</td>\n",
       "    </tr>\n",
       "    <tr>\n",
       "      <th>BMW</th>\n",
       "      <th>40000 to 59000</th>\n",
       "      <td>400.000000</td>\n",
       "    </tr>\n",
       "  </tbody>\n",
       "</table>\n",
       "<p>79 rows × 1 columns</p>\n",
       "</div>"
      ],
      "text/plain": [
       "                         Deductible\n",
       "Make    VehiclePrice               \n",
       "Saab    40000 to 59000   480.000000\n",
       "        20000 to 29000   454.545455\n",
       "Mecedes more than 69000  450.000000\n",
       "Nisson  more than 69000  423.076923\n",
       "Ford    20000 to 29000   418.421053\n",
       "...                             ...\n",
       "Jaguar  30000 to 39000   400.000000\n",
       "BMW     more than 69000  400.000000\n",
       "Nisson  40000 to 59000   400.000000\n",
       "Mercury 20000 to 29000   400.000000\n",
       "BMW     40000 to 59000   400.000000\n",
       "\n",
       "[79 rows x 1 columns]"
      ]
     },
     "execution_count": 118,
     "metadata": {},
     "output_type": "execute_result"
    }
   ],
   "source": [
    "Veh_MakePrice_Deductible = data.groupby([\"Make\",\"VehiclePrice\"]).agg({\"Deductible\":\"mean\"}).sort_values(by=['Deductible'], ascending=False)\n",
    "Veh_MakePrice_Deductible\n",
    "## We can observe from the table below that the price and make of the vehicle doesn't affect the deductible."
   ]
  },
  {
   "cell_type": "code",
   "execution_count": 119,
   "id": "16b0d4ce",
   "metadata": {},
   "outputs": [
    {
     "data": {
      "text/html": [
       "<div>\n",
       "<style scoped>\n",
       "    .dataframe tbody tr th:only-of-type {\n",
       "        vertical-align: middle;\n",
       "    }\n",
       "\n",
       "    .dataframe tbody tr th {\n",
       "        vertical-align: top;\n",
       "    }\n",
       "\n",
       "    .dataframe thead th {\n",
       "        text-align: right;\n",
       "    }\n",
       "</style>\n",
       "<table border=\"1\" class=\"dataframe\">\n",
       "  <thead>\n",
       "    <tr style=\"text-align: right;\">\n",
       "      <th></th>\n",
       "      <th>Deductible</th>\n",
       "    </tr>\n",
       "    <tr>\n",
       "      <th>VehiclePrice</th>\n",
       "      <th></th>\n",
       "    </tr>\n",
       "  </thead>\n",
       "  <tbody>\n",
       "    <tr>\n",
       "      <th>40000 to 59000</th>\n",
       "      <td>409.978308</td>\n",
       "    </tr>\n",
       "    <tr>\n",
       "      <th>30000 to 39000</th>\n",
       "      <td>409.000849</td>\n",
       "    </tr>\n",
       "    <tr>\n",
       "      <th>less than 20000</th>\n",
       "      <td>407.846715</td>\n",
       "    </tr>\n",
       "    <tr>\n",
       "      <th>20000 to 29000</th>\n",
       "      <td>407.377151</td>\n",
       "    </tr>\n",
       "    <tr>\n",
       "      <th>more than 69000</th>\n",
       "      <td>406.515712</td>\n",
       "    </tr>\n",
       "    <tr>\n",
       "      <th>60000 to 69000</th>\n",
       "      <td>401.149425</td>\n",
       "    </tr>\n",
       "  </tbody>\n",
       "</table>\n",
       "</div>"
      ],
      "text/plain": [
       "                 Deductible\n",
       "VehiclePrice               \n",
       "40000 to 59000   409.978308\n",
       "30000 to 39000   409.000849\n",
       "less than 20000  407.846715\n",
       "20000 to 29000   407.377151\n",
       "more than 69000  406.515712\n",
       "60000 to 69000   401.149425"
      ]
     },
     "execution_count": 119,
     "metadata": {},
     "output_type": "execute_result"
    }
   ],
   "source": [
    "#Now, We focus on the price and compare the price with the average deductible for each price range.\n",
    "Veh_Price_Deductible = data.groupby([\"VehiclePrice\"]).agg({\"Deductible\":\"mean\"}).sort_values(by=['Deductible'], ascending=False)\n",
    "Veh_Price_Deductible"
   ]
  },
  {
   "cell_type": "code",
   "execution_count": 120,
   "id": "059fecb5",
   "metadata": {},
   "outputs": [
    {
     "data": {
      "text/html": [
       "<div>\n",
       "<style scoped>\n",
       "    .dataframe tbody tr th:only-of-type {\n",
       "        vertical-align: middle;\n",
       "    }\n",
       "\n",
       "    .dataframe tbody tr th {\n",
       "        vertical-align: top;\n",
       "    }\n",
       "\n",
       "    .dataframe thead th {\n",
       "        text-align: right;\n",
       "    }\n",
       "</style>\n",
       "<table border=\"1\" class=\"dataframe\">\n",
       "  <thead>\n",
       "    <tr style=\"text-align: right;\">\n",
       "      <th></th>\n",
       "      <th>Make</th>\n",
       "      <th>Deductible</th>\n",
       "    </tr>\n",
       "  </thead>\n",
       "  <tbody>\n",
       "    <tr>\n",
       "      <th>0</th>\n",
       "      <td>Mecedes</td>\n",
       "      <td>425.000000</td>\n",
       "    </tr>\n",
       "    <tr>\n",
       "      <th>1</th>\n",
       "      <td>Saab</td>\n",
       "      <td>416.666667</td>\n",
       "    </tr>\n",
       "    <tr>\n",
       "      <th>2</th>\n",
       "      <td>Nisson</td>\n",
       "      <td>413.333333</td>\n",
       "    </tr>\n",
       "    <tr>\n",
       "      <th>3</th>\n",
       "      <td>VW</td>\n",
       "      <td>410.600707</td>\n",
       "    </tr>\n",
       "    <tr>\n",
       "      <th>4</th>\n",
       "      <td>Ford</td>\n",
       "      <td>408.888889</td>\n",
       "    </tr>\n",
       "    <tr>\n",
       "      <th>5</th>\n",
       "      <td>Toyota</td>\n",
       "      <td>408.779237</td>\n",
       "    </tr>\n",
       "    <tr>\n",
       "      <th>6</th>\n",
       "      <td>Pontiac</td>\n",
       "      <td>408.053167</td>\n",
       "    </tr>\n",
       "    <tr>\n",
       "      <th>7</th>\n",
       "      <td>Chevrolet</td>\n",
       "      <td>407.674004</td>\n",
       "    </tr>\n",
       "    <tr>\n",
       "      <th>8</th>\n",
       "      <td>Dodge</td>\n",
       "      <td>407.339450</td>\n",
       "    </tr>\n",
       "    <tr>\n",
       "      <th>9</th>\n",
       "      <td>Mazda</td>\n",
       "      <td>407.179269</td>\n",
       "    </tr>\n",
       "    <tr>\n",
       "      <th>10</th>\n",
       "      <td>Saturn</td>\n",
       "      <td>406.896552</td>\n",
       "    </tr>\n",
       "    <tr>\n",
       "      <th>11</th>\n",
       "      <td>Accura</td>\n",
       "      <td>406.567797</td>\n",
       "    </tr>\n",
       "    <tr>\n",
       "      <th>12</th>\n",
       "      <td>Honda</td>\n",
       "      <td>405.997858</td>\n",
       "    </tr>\n",
       "    <tr>\n",
       "      <th>13</th>\n",
       "      <td>Mercury</td>\n",
       "      <td>403.614458</td>\n",
       "    </tr>\n",
       "    <tr>\n",
       "      <th>14</th>\n",
       "      <td>BMW</td>\n",
       "      <td>400.000000</td>\n",
       "    </tr>\n",
       "    <tr>\n",
       "      <th>15</th>\n",
       "      <td>Lexus</td>\n",
       "      <td>400.000000</td>\n",
       "    </tr>\n",
       "    <tr>\n",
       "      <th>16</th>\n",
       "      <td>Jaguar</td>\n",
       "      <td>400.000000</td>\n",
       "    </tr>\n",
       "    <tr>\n",
       "      <th>17</th>\n",
       "      <td>Porche</td>\n",
       "      <td>400.000000</td>\n",
       "    </tr>\n",
       "    <tr>\n",
       "      <th>18</th>\n",
       "      <td>Ferrari</td>\n",
       "      <td>400.000000</td>\n",
       "    </tr>\n",
       "  </tbody>\n",
       "</table>\n",
       "</div>"
      ],
      "text/plain": [
       "         Make  Deductible\n",
       "0     Mecedes  425.000000\n",
       "1        Saab  416.666667\n",
       "2      Nisson  413.333333\n",
       "3          VW  410.600707\n",
       "4        Ford  408.888889\n",
       "5      Toyota  408.779237\n",
       "6     Pontiac  408.053167\n",
       "7   Chevrolet  407.674004\n",
       "8       Dodge  407.339450\n",
       "9       Mazda  407.179269\n",
       "10     Saturn  406.896552\n",
       "11     Accura  406.567797\n",
       "12      Honda  405.997858\n",
       "13    Mercury  403.614458\n",
       "14        BMW  400.000000\n",
       "15      Lexus  400.000000\n",
       "16     Jaguar  400.000000\n",
       "17     Porche  400.000000\n",
       "18    Ferrari  400.000000"
      ]
     },
     "execution_count": 120,
     "metadata": {},
     "output_type": "execute_result"
    }
   ],
   "source": [
    "#Add a new column \"Deductible\" to show the number of accidents in urban for different Vehicle Make\n",
    "Veh_Make_Deductible = data.groupby(\"Make\").agg({\"Deductible\":\"mean\"}).sort_values(by=['Deductible'], ascending=False)\n",
    "Veh_Make_Deductible\n",
    "Veh_Make_Deductible.columns = [\"Deductible\"]\n",
    "Veh_Make_Deductible.reset_index(inplace=True)\n",
    "Veh_Make_Deductible"
   ]
  },
  {
   "cell_type": "code",
   "execution_count": 121,
   "id": "b9cfbb21",
   "metadata": {},
   "outputs": [
    {
     "data": {
      "text/html": [
       "<div>\n",
       "<style scoped>\n",
       "    .dataframe tbody tr th:only-of-type {\n",
       "        vertical-align: middle;\n",
       "    }\n",
       "\n",
       "    .dataframe tbody tr th {\n",
       "        vertical-align: top;\n",
       "    }\n",
       "\n",
       "    .dataframe thead th {\n",
       "        text-align: right;\n",
       "    }\n",
       "</style>\n",
       "<table border=\"1\" class=\"dataframe\">\n",
       "  <thead>\n",
       "    <tr style=\"text-align: right;\">\n",
       "      <th></th>\n",
       "      <th>VehiclePrice</th>\n",
       "      <th>Deductible</th>\n",
       "    </tr>\n",
       "  </thead>\n",
       "  <tbody>\n",
       "    <tr>\n",
       "      <th>0</th>\n",
       "      <td>40000 to 59000</td>\n",
       "      <td>409.978308</td>\n",
       "    </tr>\n",
       "    <tr>\n",
       "      <th>1</th>\n",
       "      <td>30000 to 39000</td>\n",
       "      <td>409.000849</td>\n",
       "    </tr>\n",
       "    <tr>\n",
       "      <th>2</th>\n",
       "      <td>less than 20000</td>\n",
       "      <td>407.846715</td>\n",
       "    </tr>\n",
       "    <tr>\n",
       "      <th>3</th>\n",
       "      <td>20000 to 29000</td>\n",
       "      <td>407.377151</td>\n",
       "    </tr>\n",
       "    <tr>\n",
       "      <th>4</th>\n",
       "      <td>more than 69000</td>\n",
       "      <td>406.515712</td>\n",
       "    </tr>\n",
       "    <tr>\n",
       "      <th>5</th>\n",
       "      <td>60000 to 69000</td>\n",
       "      <td>401.149425</td>\n",
       "    </tr>\n",
       "  </tbody>\n",
       "</table>\n",
       "</div>"
      ],
      "text/plain": [
       "      VehiclePrice  Deductible\n",
       "0   40000 to 59000  409.978308\n",
       "1   30000 to 39000  409.000849\n",
       "2  less than 20000  407.846715\n",
       "3   20000 to 29000  407.377151\n",
       "4  more than 69000  406.515712\n",
       "5   60000 to 69000  401.149425"
      ]
     },
     "execution_count": 121,
     "metadata": {},
     "output_type": "execute_result"
    }
   ],
   "source": [
    "Veh_Price_Deductible.columns = [\"Deductible\"]\n",
    "Veh_Price_Deductible.reset_index(inplace=True)\n",
    "Veh_Price_Deductible"
   ]
  },
  {
   "cell_type": "code",
   "execution_count": 122,
   "id": "c69471b4",
   "metadata": {},
   "outputs": [
    {
     "data": {
      "text/html": [
       "\n",
       "<div id=\"altair-viz-b691a243fec441f09eff63cd45e418a5\"></div>\n",
       "<script type=\"text/javascript\">\n",
       "  var VEGA_DEBUG = (typeof VEGA_DEBUG == \"undefined\") ? {} : VEGA_DEBUG;\n",
       "  (function(spec, embedOpt){\n",
       "    let outputDiv = document.currentScript.previousElementSibling;\n",
       "    if (outputDiv.id !== \"altair-viz-b691a243fec441f09eff63cd45e418a5\") {\n",
       "      outputDiv = document.getElementById(\"altair-viz-b691a243fec441f09eff63cd45e418a5\");\n",
       "    }\n",
       "    const paths = {\n",
       "      \"vega\": \"https://cdn.jsdelivr.net/npm//vega@5?noext\",\n",
       "      \"vega-lib\": \"https://cdn.jsdelivr.net/npm//vega-lib?noext\",\n",
       "      \"vega-lite\": \"https://cdn.jsdelivr.net/npm//vega-lite@4.17.0?noext\",\n",
       "      \"vega-embed\": \"https://cdn.jsdelivr.net/npm//vega-embed@6?noext\",\n",
       "    };\n",
       "\n",
       "    function maybeLoadScript(lib, version) {\n",
       "      var key = `${lib.replace(\"-\", \"\")}_version`;\n",
       "      return (VEGA_DEBUG[key] == version) ?\n",
       "        Promise.resolve(paths[lib]) :\n",
       "        new Promise(function(resolve, reject) {\n",
       "          var s = document.createElement('script');\n",
       "          document.getElementsByTagName(\"head\")[0].appendChild(s);\n",
       "          s.async = true;\n",
       "          s.onload = () => {\n",
       "            VEGA_DEBUG[key] = version;\n",
       "            return resolve(paths[lib]);\n",
       "          };\n",
       "          s.onerror = () => reject(`Error loading script: ${paths[lib]}`);\n",
       "          s.src = paths[lib];\n",
       "        });\n",
       "    }\n",
       "\n",
       "    function showError(err) {\n",
       "      outputDiv.innerHTML = `<div class=\"error\" style=\"color:red;\">${err}</div>`;\n",
       "      throw err;\n",
       "    }\n",
       "\n",
       "    function displayChart(vegaEmbed) {\n",
       "      vegaEmbed(outputDiv, spec, embedOpt)\n",
       "        .catch(err => showError(`Javascript Error: ${err.message}<br>This usually means there's a typo in your chart specification. See the javascript console for the full traceback.`));\n",
       "    }\n",
       "\n",
       "    if(typeof define === \"function\" && define.amd) {\n",
       "      requirejs.config({paths});\n",
       "      require([\"vega-embed\"], displayChart, err => showError(`Error loading script: ${err.message}`));\n",
       "    } else {\n",
       "      maybeLoadScript(\"vega\", \"5\")\n",
       "        .then(() => maybeLoadScript(\"vega-lite\", \"4.17.0\"))\n",
       "        .then(() => maybeLoadScript(\"vega-embed\", \"6\"))\n",
       "        .catch(showError)\n",
       "        .then(() => displayChart(vegaEmbed));\n",
       "    }\n",
       "  })({\"config\": {\"view\": {\"continuousWidth\": 400, \"continuousHeight\": 300}}, \"layer\": [{\"mark\": {\"type\": \"arc\", \"innerRadius\": 75}, \"encoding\": {\"color\": {\"field\": \"Make\", \"type\": \"nominal\"}, \"theta\": {\"field\": \"Deductible\", \"stack\": true, \"type\": \"quantitative\"}}, \"title\": \"Deductible\"}, {\"mark\": {\"type\": \"text\", \"fontSize\": 10, \"radius\": 170}, \"encoding\": {\"color\": {\"field\": \"Make\", \"type\": \"nominal\"}, \"text\": {\"field\": \"Deductible\", \"type\": \"quantitative\"}, \"theta\": {\"field\": \"Deductible\", \"stack\": true, \"type\": \"quantitative\"}}, \"title\": \"Deductible\"}], \"data\": {\"url\": \"http://localhost:63320/ca73eef87a9ea530b4ec69b9ffd12b5a.json\"}, \"$schema\": \"https://vega.github.io/schema/vega-lite/v4.17.0.json\"}, {\"mode\": \"vega-lite\"});\n",
       "</script>"
      ],
      "text/plain": [
       "alt.LayerChart(...)"
      ]
     },
     "execution_count": 122,
     "metadata": {},
     "output_type": "execute_result"
    }
   ],
   "source": [
    "## Create a donut chart to view the data by make vs deductibles\n",
    "\n",
    "pie = alt.Chart(Veh_Make_Deductible).mark_arc(innerRadius=75).encode(\n",
    "theta=alt.Theta(field=\"Deductible\", type=\"quantitative\",stack=True),\n",
    "color=alt.Color(field=\"Make\",type=\"nominal\"),\n",
    ").properties(title=\"Deductible\")\n",
    "\n",
    "pie + pie.mark_text(radius=170, fontSize=10).encode(text='Deductible')\n",
    "\n",
    "## Again, we can see that the deductible remains similar across different makes"
   ]
  },
  {
   "cell_type": "code",
   "execution_count": 123,
   "id": "86bcbb2c",
   "metadata": {},
   "outputs": [
    {
     "data": {
      "text/html": [
       "\n",
       "<div id=\"altair-viz-77e27bad3c0f4554af1096b19e16b913\"></div>\n",
       "<script type=\"text/javascript\">\n",
       "  var VEGA_DEBUG = (typeof VEGA_DEBUG == \"undefined\") ? {} : VEGA_DEBUG;\n",
       "  (function(spec, embedOpt){\n",
       "    let outputDiv = document.currentScript.previousElementSibling;\n",
       "    if (outputDiv.id !== \"altair-viz-77e27bad3c0f4554af1096b19e16b913\") {\n",
       "      outputDiv = document.getElementById(\"altair-viz-77e27bad3c0f4554af1096b19e16b913\");\n",
       "    }\n",
       "    const paths = {\n",
       "      \"vega\": \"https://cdn.jsdelivr.net/npm//vega@5?noext\",\n",
       "      \"vega-lib\": \"https://cdn.jsdelivr.net/npm//vega-lib?noext\",\n",
       "      \"vega-lite\": \"https://cdn.jsdelivr.net/npm//vega-lite@4.17.0?noext\",\n",
       "      \"vega-embed\": \"https://cdn.jsdelivr.net/npm//vega-embed@6?noext\",\n",
       "    };\n",
       "\n",
       "    function maybeLoadScript(lib, version) {\n",
       "      var key = `${lib.replace(\"-\", \"\")}_version`;\n",
       "      return (VEGA_DEBUG[key] == version) ?\n",
       "        Promise.resolve(paths[lib]) :\n",
       "        new Promise(function(resolve, reject) {\n",
       "          var s = document.createElement('script');\n",
       "          document.getElementsByTagName(\"head\")[0].appendChild(s);\n",
       "          s.async = true;\n",
       "          s.onload = () => {\n",
       "            VEGA_DEBUG[key] = version;\n",
       "            return resolve(paths[lib]);\n",
       "          };\n",
       "          s.onerror = () => reject(`Error loading script: ${paths[lib]}`);\n",
       "          s.src = paths[lib];\n",
       "        });\n",
       "    }\n",
       "\n",
       "    function showError(err) {\n",
       "      outputDiv.innerHTML = `<div class=\"error\" style=\"color:red;\">${err}</div>`;\n",
       "      throw err;\n",
       "    }\n",
       "\n",
       "    function displayChart(vegaEmbed) {\n",
       "      vegaEmbed(outputDiv, spec, embedOpt)\n",
       "        .catch(err => showError(`Javascript Error: ${err.message}<br>This usually means there's a typo in your chart specification. See the javascript console for the full traceback.`));\n",
       "    }\n",
       "\n",
       "    if(typeof define === \"function\" && define.amd) {\n",
       "      requirejs.config({paths});\n",
       "      require([\"vega-embed\"], displayChart, err => showError(`Error loading script: ${err.message}`));\n",
       "    } else {\n",
       "      maybeLoadScript(\"vega\", \"5\")\n",
       "        .then(() => maybeLoadScript(\"vega-lite\", \"4.17.0\"))\n",
       "        .then(() => maybeLoadScript(\"vega-embed\", \"6\"))\n",
       "        .catch(showError)\n",
       "        .then(() => displayChart(vegaEmbed));\n",
       "    }\n",
       "  })({\"config\": {\"view\": {\"continuousWidth\": 400, \"continuousHeight\": 300}}, \"layer\": [{\"mark\": {\"type\": \"arc\", \"innerRadius\": 75}, \"encoding\": {\"color\": {\"field\": \"VehiclePrice\", \"type\": \"nominal\"}, \"theta\": {\"field\": \"Deductible\", \"stack\": true, \"type\": \"quantitative\"}}, \"title\": \"Deductible\"}, {\"mark\": {\"type\": \"text\", \"fontSize\": 10, \"radius\": 170}, \"encoding\": {\"color\": {\"field\": \"VehiclePrice\", \"type\": \"nominal\"}, \"text\": {\"field\": \"Deductible\", \"type\": \"quantitative\"}, \"theta\": {\"field\": \"Deductible\", \"stack\": true, \"type\": \"quantitative\"}}, \"title\": \"Deductible\"}], \"data\": {\"url\": \"http://localhost:63320/f1f7a3f26e1bcf335925f590f65c9541.json\"}, \"$schema\": \"https://vega.github.io/schema/vega-lite/v4.17.0.json\"}, {\"mode\": \"vega-lite\"});\n",
       "</script>"
      ],
      "text/plain": [
       "alt.LayerChart(...)"
      ]
     },
     "execution_count": 123,
     "metadata": {},
     "output_type": "execute_result"
    }
   ],
   "source": [
    "pie = alt.Chart(Veh_Price_Deductible).mark_arc(innerRadius=75).encode(\n",
    "theta=alt.Theta(field=\"Deductible\", type=\"quantitative\",stack=True),\n",
    "color=alt.Color(field=\"VehiclePrice\",type=\"nominal\"),\n",
    ").properties(title=\"Deductible\")\n",
    "\n",
    "pie + pie.mark_text(radius=170, fontSize=10).encode(text='Deductible')\n",
    "\n",
    "## Here We can infer that the average deductible remains almost the same regardless of the price of the vehicle no matter the brand. "
   ]
  },
  {
   "attachments": {},
   "cell_type": "markdown",
   "id": "90a28e6c",
   "metadata": {},
   "source": [
    "On observing the three tables, we can see that the average deductibles remain similar no matter the make/price of the vehicle, although as seen in the third table, the deductible decreases slightly with a decrease in the price of the vehicle.\n",
    "\n",
    "On observing the donut charts, we can see that the average deductibles remain similar no matter the make/price of the vehicle at an average of about $400-$408 per vehicle price as mentioned in the table in the previous slide.\n",
    "We can conclude that the deductible is not dependent upon the price/make of the vehicle.\n"
   ]
  },
  {
   "cell_type": "code",
   "execution_count": null,
   "id": "e8964d9d",
   "metadata": {},
   "outputs": [],
   "source": []
  },
  {
   "cell_type": "markdown",
   "id": "16d740ad",
   "metadata": {},
   "source": []
  },
  {
   "cell_type": "markdown",
   "id": "50050c75",
   "metadata": {},
   "source": [
    "# Step 3: Classification\n",
    "our response variable is a binary indicator FraudFound_P with two possibilities 0 means fraud was not found and 1 means fraud was found."
   ]
  },
  {
   "cell_type": "markdown",
   "id": "99b018a7",
   "metadata": {},
   "source": [
    "Determining the correlation between variables using the corr() function  \n",
    "so we create a list of all the variables of the dataset and \n",
    "corr() function returns the pairwise correlation of all columns in the dataframe"
   ]
  },
  {
   "cell_type": "code",
   "execution_count": 124,
   "id": "68efa56d",
   "metadata": {},
   "outputs": [
    {
     "data": {
      "text/html": [
       "<div>\n",
       "<style scoped>\n",
       "    .dataframe tbody tr th:only-of-type {\n",
       "        vertical-align: middle;\n",
       "    }\n",
       "\n",
       "    .dataframe tbody tr th {\n",
       "        vertical-align: top;\n",
       "    }\n",
       "\n",
       "    .dataframe thead th {\n",
       "        text-align: right;\n",
       "    }\n",
       "</style>\n",
       "<table border=\"1\" class=\"dataframe\">\n",
       "  <thead>\n",
       "    <tr style=\"text-align: right;\">\n",
       "      <th></th>\n",
       "      <th>WeekOfMonth</th>\n",
       "      <th>WeekOfMonthClaimed</th>\n",
       "      <th>Age</th>\n",
       "      <th>FraudFound_P</th>\n",
       "      <th>Deductible</th>\n",
       "      <th>DriverRating</th>\n",
       "      <th>Year</th>\n",
       "    </tr>\n",
       "  </thead>\n",
       "  <tbody>\n",
       "    <tr>\n",
       "      <th>WeekOfMonth</th>\n",
       "      <td>1.000000</td>\n",
       "      <td>0.275400</td>\n",
       "      <td>-0.004810</td>\n",
       "      <td>-0.011861</td>\n",
       "      <td>-0.003993</td>\n",
       "      <td>-0.016817</td>\n",
       "      <td>-0.003906</td>\n",
       "    </tr>\n",
       "    <tr>\n",
       "      <th>WeekOfMonthClaimed</th>\n",
       "      <td>0.275400</td>\n",
       "      <td>1.000000</td>\n",
       "      <td>0.001859</td>\n",
       "      <td>-0.005761</td>\n",
       "      <td>0.005457</td>\n",
       "      <td>-0.000048</td>\n",
       "      <td>0.012175</td>\n",
       "    </tr>\n",
       "    <tr>\n",
       "      <th>Age</th>\n",
       "      <td>-0.004810</td>\n",
       "      <td>0.001859</td>\n",
       "      <td>1.000000</td>\n",
       "      <td>-0.029741</td>\n",
       "      <td>0.069420</td>\n",
       "      <td>0.001668</td>\n",
       "      <td>0.025197</td>\n",
       "    </tr>\n",
       "    <tr>\n",
       "      <th>FraudFound_P</th>\n",
       "      <td>-0.011861</td>\n",
       "      <td>-0.005761</td>\n",
       "      <td>-0.029741</td>\n",
       "      <td>1.000000</td>\n",
       "      <td>0.017348</td>\n",
       "      <td>0.007266</td>\n",
       "      <td>-0.024760</td>\n",
       "    </tr>\n",
       "    <tr>\n",
       "      <th>Deductible</th>\n",
       "      <td>-0.003993</td>\n",
       "      <td>0.005457</td>\n",
       "      <td>0.069420</td>\n",
       "      <td>0.017348</td>\n",
       "      <td>1.000000</td>\n",
       "      <td>0.003886</td>\n",
       "      <td>-0.001170</td>\n",
       "    </tr>\n",
       "    <tr>\n",
       "      <th>DriverRating</th>\n",
       "      <td>-0.016817</td>\n",
       "      <td>-0.000048</td>\n",
       "      <td>0.001668</td>\n",
       "      <td>0.007266</td>\n",
       "      <td>0.003886</td>\n",
       "      <td>1.000000</td>\n",
       "      <td>-0.013890</td>\n",
       "    </tr>\n",
       "    <tr>\n",
       "      <th>Year</th>\n",
       "      <td>-0.003906</td>\n",
       "      <td>0.012175</td>\n",
       "      <td>0.025197</td>\n",
       "      <td>-0.024760</td>\n",
       "      <td>-0.001170</td>\n",
       "      <td>-0.013890</td>\n",
       "      <td>1.000000</td>\n",
       "    </tr>\n",
       "  </tbody>\n",
       "</table>\n",
       "</div>"
      ],
      "text/plain": [
       "                    WeekOfMonth  WeekOfMonthClaimed       Age  FraudFound_P  \\\n",
       "WeekOfMonth            1.000000            0.275400 -0.004810     -0.011861   \n",
       "WeekOfMonthClaimed     0.275400            1.000000  0.001859     -0.005761   \n",
       "Age                   -0.004810            0.001859  1.000000     -0.029741   \n",
       "FraudFound_P          -0.011861           -0.005761 -0.029741      1.000000   \n",
       "Deductible            -0.003993            0.005457  0.069420      0.017348   \n",
       "DriverRating          -0.016817           -0.000048  0.001668      0.007266   \n",
       "Year                  -0.003906            0.012175  0.025197     -0.024760   \n",
       "\n",
       "                    Deductible  DriverRating      Year  \n",
       "WeekOfMonth          -0.003993     -0.016817 -0.003906  \n",
       "WeekOfMonthClaimed    0.005457     -0.000048  0.012175  \n",
       "Age                   0.069420      0.001668  0.025197  \n",
       "FraudFound_P          0.017348      0.007266 -0.024760  \n",
       "Deductible            1.000000      0.003886 -0.001170  \n",
       "DriverRating          0.003886      1.000000 -0.013890  \n",
       "Year                 -0.001170     -0.013890  1.000000  "
      ]
     },
     "execution_count": 124,
     "metadata": {},
     "output_type": "execute_result"
    }
   ],
   "source": [
    "attributes=['Month','WeekOfMonth','DayOfWeek','Make','AccidentArea','DayOfWeekClaimed','MonthClaimed','WeekOfMonthClaimed',\n",
    "            'Sex','MaritalStatus','Age','Fault','PolicyType','VehicleCategory','VehiclePrice','Deductible','DriverRating',\n",
    "            'Days_Policy_Accident','Days_Policy_Claim','PastNumberOfClaims','AgeOfVehicle','AgeOfPolicyHolder',\n",
    "            'PoliceReportFiled','WitnessPresent','AgentType','AddressChange_Claim','NumberOfCars',\n",
    "            'Year','BasePolicy']\n",
    "data.corr()\n",
    "\n"
   ]
  },
  {
   "cell_type": "code",
   "execution_count": 125,
   "id": "976d00ea",
   "metadata": {},
   "outputs": [
    {
     "data": {
      "text/plain": [
       "<AxesSubplot:>"
      ]
     },
     "execution_count": 125,
     "metadata": {},
     "output_type": "execute_result"
    },
    {
     "data": {
      "image/png": "[encoded data removed]",
      "text/plain": [
       "<Figure size 640x480 with 2 Axes>"
      ]
     },
     "metadata": {},
     "output_type": "display_data"
    }
   ],
   "source": [
    "sns.heatmap(data.corr())# correlation matrix using seaborn"
   ]
  },
  {
   "cell_type": "code",
   "execution_count": 126,
   "id": "63fc86e1",
   "metadata": {},
   "outputs": [
    {
     "data": {
      "image/png": "[encoded data removed]",
      "text/plain": [
       "<Figure size 480x480 with 1 Axes>"
      ]
     },
     "metadata": {},
     "output_type": "display_data"
    }
   ],
   "source": [
    "plt.matshow(data.corr())\n",
    "plt.show()"
   ]
  },
  {
   "cell_type": "code",
   "execution_count": 127,
   "id": "09e9da94",
   "metadata": {},
   "outputs": [
    {
     "name": "stdout",
     "output_type": "stream",
     "text": [
      "Correlation scores by variable:\n",
      "Month\n",
      "-0.01\n",
      "WeekOfMonth\n",
      "-0.01\n",
      "DayOfWeek\n",
      "-0.02\n",
      "Make\n",
      "-0.02\n",
      "AccidentArea\n",
      "-0.03\n",
      "DayOfWeekClaimed\n",
      "-0.0\n",
      "MonthClaimed\n",
      "-0.01\n",
      "WeekOfMonthClaimed\n",
      "-0.01\n",
      "Sex\n",
      "0.03\n",
      "MaritalStatus\n",
      "0.0\n",
      "Age\n",
      "-0.03\n",
      "Fault\n",
      "-0.13\n",
      "PolicyType\n",
      "-0.06\n",
      "VehicleCategory\n",
      "-0.1\n",
      "VehiclePrice\n",
      "0.06\n",
      "Deductible\n",
      "0.03\n",
      "DriverRating\n",
      "0.01\n",
      "Days_Policy_Accident\n",
      "0.01\n",
      "Days_Policy_Claim\n",
      "-0.02\n",
      "PastNumberOfClaims\n",
      "0.02\n",
      "AgeOfVehicle\n",
      "-0.02\n",
      "AgeOfPolicyHolder\n",
      "-0.03\n",
      "PoliceReportFiled\n",
      "-0.02\n",
      "WitnessPresent\n",
      "-0.01\n",
      "AgentType\n",
      "-0.02\n",
      "AddressChange_Claim\n",
      "-0.04\n",
      "NumberOfCars\n",
      "0.01\n",
      "Year\n",
      "-0.02\n",
      "BasePolicy\n",
      "-0.16\n"
     ]
    }
   ],
   "source": [
    "#we  create a function to find ONLY a variable's correlation with the FraudFound_P variable. \n",
    "#for that, we  need to transform all the strings to integers.\n",
    "#transforming string to integer data\n",
    "def transform(column):\n",
    "    label=LabelEncoder().fit_transform(data[column])\n",
    "    data.drop(column,axis=1,inplace=True)\n",
    "    data[column]=label\n",
    "def multi_transform(list):\n",
    "    mt_list=[]\n",
    "    for x in list:\n",
    "        if x not in mt_list:\n",
    "            transform(x)\n",
    "multi_transform(attributes)\n",
    "\n",
    "#calculating the correlation between each variable and fraud\n",
    "def multi_corr(column):\n",
    "    corr_list=[]\n",
    "    for x in column:\n",
    "        if x not in corr_list:\n",
    "            c=data['FraudFound_P'].corr(data[x],method='pearson',min_periods=1)\n",
    "            print(x)\n",
    "            print(round(c,2))\n",
    "print('Correlation scores by variable:')\n",
    "multi_corr(attributes)"
   ]
  },
  {
   "cell_type": "markdown",
   "id": "c7c5e0f2",
   "metadata": {},
   "source": [
    "Here, we can see  which of the variables are most highly correlated with fraud, and which are the least correlated.\n",
    "\n",
    "highly correlated variables=BasePolicy, VehicleCategory, Fault, VehiclePrice, PolicyType\n",
    "\n",
    "least correlated variables=DayOfWeekClaimed, maritalStatus, Month, WeekOfMonth, MonthClaimed, WeekOfMonthClaimed,\n",
    "                           VehicleCategory, DriverRating, Days_Policy_Accident, WitnessPresent, NumberOfSuppliments,\n",
    "                           NumberOfCars."
   ]
  },
  {
   "cell_type": "markdown",
   "id": "95e7966d",
   "metadata": {},
   "source": [
    "# Logistic Regression"
   ]
  },
  {
   "cell_type": "markdown",
   "id": "e27cb786",
   "metadata": {},
   "source": [
    "Logistic regression is a type of statistical model that is used for classification tasks. \n",
    "It is a supervised learning algorithm that takes input data and uses a linear combination of the input features to predict a binary outcome (0 or 1)\n",
    " The logistic function takes input values and maps them to an output value between 0 and 1.\n",
    "if the predicted probability is greater than 0.5, we predict the positive class, and if it is less than 0.5, we predict the negative class.\n",
    "Logistic regression can be used for a variety of classification tasks, including binary classification and multi-class classification\n"
   ]
  },
  {
   "cell_type": "code",
   "execution_count": 128,
   "id": "9d1df851",
   "metadata": {},
   "outputs": [],
   "source": [
    "#splitting the data into training and test data\n",
    "y=data.FraudFound_P # binary dependent variable\n",
    "X=data[attributes]# independent variables\n",
    "\n",
    "#train_X,test_X,train_y,test_y=train_test_split(X,y,random_state=0)\n",
    "X_train, X_test, y_train, y_test = train_test_split(X, y, test_size=0.3, random_state=0)"
   ]
  },
  {
   "cell_type": "code",
   "execution_count": 129,
   "id": "341e1845",
   "metadata": {},
   "outputs": [
    {
     "name": "stdout",
     "output_type": "stream",
     "text": [
      "Accuracy: 0.940337224383917\n",
      "[[4350    0]\n",
      " [ 276    0]]\n"
     ]
    },
    {
     "name": "stderr",
     "output_type": "stream",
     "text": [
      "C:\\Users\\akhil\\anaconda3\\lib\\site-packages\\sklearn\\linear_model\\_logistic.py:814: ConvergenceWarning: lbfgs failed to converge (status=1):\n",
      "STOP: TOTAL NO. of ITERATIONS REACHED LIMIT.\n",
      "\n",
      "Increase the number of iterations (max_iter) or scale the data as shown in:\n",
      "    https://scikit-learn.org/stable/modules/preprocessing.html\n",
      "Please also refer to the documentation for alternative solver options:\n",
      "    https://scikit-learn.org/stable/modules/linear_model.html#logistic-regression\n",
      "  n_iter_i = _check_optimize_result(\n"
     ]
    }
   ],
   "source": [
    "# Train the model on the training set\n",
    "logistic_regression = LogisticRegression()\n",
    "logistic_regression.fit(X_train, y_train)\n",
    "\n",
    "# Predict the labels for the test set\n",
    "y_pred = logistic_regression.predict(X_test)\n",
    "\n",
    "\n",
    "\n",
    "# Calculate the accuracy of the model on the test set\n",
    "accuracy = accuracy_score(y_test, y_pred)\n",
    "print(\"Accuracy:\", accuracy)\n",
    "\n",
    "# Compute the confusion matrix\n",
    "confusion_matrix = confusion_matrix(y_test, y_pred)\n",
    "print(confusion_matrix)\n",
    "\n"
   ]
  },
  {
   "cell_type": "markdown",
   "id": "d9dbcd0a",
   "metadata": {},
   "source": [
    "Accuracy of logistic regression classifier on test set: 0.940337224383917\n",
    "\n",
    "confusion matrix for the model\n",
    "[[4350    0]\n",
    "[ 276    0]]\n",
    "\n",
    "The result is telling us that we have 4350 correct predictions and 276 incorrect predictions."
   ]
  },
  {
   "cell_type": "code",
   "execution_count": 130,
   "id": "72ff3c37",
   "metadata": {},
   "outputs": [],
   "source": [
    "# Convert the DataFrame to a NumPy array\n",
    "#X_train_array = X_train.values\n",
    "#y_train_array=y_train.values\n",
    "\n",
    "# Provide filler values for the extra dimensions of the data\n",
    "#filler_values = np.full((X_train_array.shape[0], [1,2]), 0.5)\n",
    "#X_train_filler = np.hstack([X_train_array, filler_values])\n",
    "\n",
    "# Plot the decision boundary of the model\n",
    "#plot_decision_regions(X_train_filler, y_train_array, logistic_regression)\n",
    "\n",
    "# Plot the decision boundary of the model\n",
    "#plot_decision_regions(X_train_array, y_train_array, logistic_regression)"
   ]
  },
  {
   "cell_type": "code",
   "execution_count": 131,
   "id": "97b20b25",
   "metadata": {},
   "outputs": [
    {
     "name": "stdout",
     "output_type": "stream",
     "text": [
      "Warning: Maximum number of iterations has been exceeded.\n",
      "         Current function value: 0.183168\n",
      "         Iterations: 35\n",
      "                           Logit Regression Results                           \n",
      "==============================================================================\n",
      "Dep. Variable:           FraudFound_P   No. Observations:                 4626\n",
      "Model:                          Logit   Df Residuals:                     4597\n",
      "Method:                           MLE   Df Model:                           28\n",
      "Date:                Mon, 12 Dec 2022   Pseudo R-squ.:                  0.1897\n",
      "Time:                        10:18:22   Log-Likelihood:                -847.33\n",
      "converged:                      False   LL-Null:                       -1045.7\n",
      "Covariance Type:            nonrobust   LLR p-value:                 9.355e-67\n",
      "========================================================================================\n",
      "                           coef    std err          z      P>|z|      [0.025      0.975]\n",
      "----------------------------------------------------------------------------------------\n",
      "Month                   -0.0457      0.026     -1.772      0.076      -0.096       0.005\n",
      "WeekOfMonth             -0.0403      0.053     -0.757      0.449      -0.145       0.064\n",
      "DayOfWeek               -0.0280      0.032     -0.870      0.384      -0.091       0.035\n",
      "Make                    -0.0113      0.012     -0.911      0.362      -0.035       0.013\n",
      "AccidentArea            -0.2874      0.183     -1.569      0.117      -0.646       0.072\n",
      "DayOfWeekClaimed        -0.0496      0.028     -1.744      0.081      -0.105       0.006\n",
      "MonthClaimed             0.0415      0.026      1.603      0.109      -0.009       0.092\n",
      "WeekOfMonthClaimed       0.0103      0.055      0.187      0.852      -0.097       0.118\n",
      "Sex                      0.2727      0.201      1.360      0.174      -0.120       0.666\n",
      "MaritalStatus           -0.2206      0.157     -1.404      0.160      -0.529       0.087\n",
      "Age                      0.0054      0.016      0.333      0.739      -0.027       0.037\n",
      "Fault                   -2.8711      0.344     -8.344      0.000      -3.546      -2.197\n",
      "PolicyType               0.6584      0.139      4.732      0.000       0.386       0.931\n",
      "VehicleCategory         -2.0934      0.383     -5.462      0.000      -2.845      -1.342\n",
      "VehiclePrice             0.0418      0.037      1.120      0.263      -0.031       0.115\n",
      "Deductible               0.0273      0.207      0.132      0.895      -0.378       0.432\n",
      "DriverRating             0.0534      0.058      0.915      0.360      -0.061       0.168\n",
      "Days_Policy_Accident     1.1511      0.306      3.764      0.000       0.552       1.750\n",
      "Days_Policy_Claim       -1.2355      0.352     -3.509      0.000      -1.926      -0.545\n",
      "PastNumberOfClaims       0.0112      0.054      0.209      0.834      -0.094       0.116\n",
      "AgeOfVehicle            -0.1473      0.064     -2.294      0.022      -0.273      -0.021\n",
      "AgeOfPolicyHolder       -0.1094      0.146     -0.749      0.454      -0.396       0.177\n",
      "PoliceReportFiled       -1.4416      0.728     -1.981      0.048      -2.868      -0.015\n",
      "WitnessPresent         -17.0851   5649.684     -0.003      0.998   -1.11e+04    1.11e+04\n",
      "AgentType              -18.2881   4980.085     -0.004      0.997   -9779.075    9742.499\n",
      "AddressChange_Claim     -0.3174      0.131     -2.422      0.015      -0.574      -0.061\n",
      "NumberOfCars             0.1642      0.162      1.016      0.310      -0.153       0.481\n",
      "Year                    -0.1042      0.084     -1.246      0.213      -0.268       0.060\n",
      "BasePolicy              -1.1964      0.137     -8.706      0.000      -1.466      -0.927\n",
      "========================================================================================\n"
     ]
    },
    {
     "name": "stderr",
     "output_type": "stream",
     "text": [
      "C:\\Users\\akhil\\anaconda3\\lib\\site-packages\\statsmodels\\base\\model.py:604: ConvergenceWarning: Maximum Likelihood optimization failed to converge. Check mle_retvals\n",
      "  warnings.warn(\"Maximum Likelihood optimization failed to \"\n"
     ]
    }
   ],
   "source": [
    "model = sm.Logit(y_test, X_test).fit()\n",
    "print(model.summary())\n",
    "#print(model.summary2())\n"
   ]
  },
  {
   "cell_type": "code",
   "execution_count": 132,
   "id": "9214ee62",
   "metadata": {},
   "outputs": [
    {
     "name": "stdout",
     "output_type": "stream",
     "text": [
      "Optimization terminated successfully.\n",
      "         Current function value: 0.225145\n",
      "         Iterations 9\n",
      "                         Results: Logit\n",
      "=================================================================\n",
      "Model:              Logit            Pseudo R-squared: 0.006     \n",
      "Dependent Variable: FraudFound_P     AIC:              6953.4583 \n",
      "Date:               2022-12-12 10:18 BIC:              6991.6754 \n",
      "No. Observations:   15420            Log-Likelihood:   -3471.7   \n",
      "Df Model:           4                LL-Null:          -3493.8   \n",
      "Df Residuals:       15415            LLR p-value:      6.0935e-09\n",
      "Converged:          1.0000           Scale:            1.0000    \n",
      "No. Iterations:     9.0000                                       \n",
      "-----------------------------------------------------------------\n",
      "                  Coef.  Std.Err.    z     P>|z|   [0.025  0.975]\n",
      "-----------------------------------------------------------------\n",
      "BasePolicy       -2.1427   0.0633 -33.8474 0.0000 -2.2667 -2.0186\n",
      "VehicleCategory  -0.6868   0.1961  -3.5014 0.0005 -1.0712 -0.3023\n",
      "Fault            -3.6653   0.1664 -22.0293 0.0000 -3.9914 -3.3392\n",
      "VehiclePrice     -0.2842   0.0164 -17.3172 0.0000 -0.3163 -0.2520\n",
      "PolicyType        0.2088   0.0706   2.9570 0.0031  0.0704  0.3472\n",
      "=================================================================\n",
      "\n"
     ]
    }
   ],
   "source": [
    "# creating the model with highly corelated variables\n",
    "cols=['BasePolicy', 'VehicleCategory', 'Fault', 'VehiclePrice', 'PolicyType'] \n",
    "X=data[cols]\n",
    "y=data.FraudFound_P\n",
    "logit_model=sm.Logit(y,X)\n",
    "result=logit_model.fit()\n",
    "print(result.summary2())"
   ]
  },
  {
   "cell_type": "markdown",
   "id": "affa22fa",
   "metadata": {},
   "source": [
    "when we consider the highly corelatyed variables, accuracy improved and the p-values for all variables are smaller than 0.05"
   ]
  },
  {
   "cell_type": "markdown",
   "id": "7be23a82",
   "metadata": {},
   "source": []
  },
  {
   "cell_type": "code",
   "execution_count": 141,
   "id": "90c52156",
   "metadata": {},
   "outputs": [
    {
     "name": "stdout",
     "output_type": "stream",
     "text": [
      "              precision    recall  f1-score   support\n",
      "\n",
      "           0       0.94      1.00      0.97      4350\n",
      "           1       0.00      0.00      0.00       276\n",
      "\n",
      "    accuracy                           0.94      4626\n",
      "   macro avg       0.47      0.50      0.48      4626\n",
      "weighted avg       0.88      0.94      0.91      4626\n",
      "\n"
     ]
    },
    {
     "name": "stderr",
     "output_type": "stream",
     "text": [
      "C:\\Users\\akhil\\anaconda3\\lib\\site-packages\\sklearn\\metrics\\_classification.py:1318: UndefinedMetricWarning: Precision and F-score are ill-defined and being set to 0.0 in labels with no predicted samples. Use `zero_division` parameter to control this behavior.\n",
      "  _warn_prf(average, modifier, msg_start, len(result))\n",
      "C:\\Users\\akhil\\anaconda3\\lib\\site-packages\\sklearn\\metrics\\_classification.py:1318: UndefinedMetricWarning: Precision and F-score are ill-defined and being set to 0.0 in labels with no predicted samples. Use `zero_division` parameter to control this behavior.\n",
      "  _warn_prf(average, modifier, msg_start, len(result))\n",
      "C:\\Users\\akhil\\anaconda3\\lib\\site-packages\\sklearn\\metrics\\_classification.py:1318: UndefinedMetricWarning: Precision and F-score are ill-defined and being set to 0.0 in labels with no predicted samples. Use `zero_division` parameter to control this behavior.\n",
      "  _warn_prf(average, modifier, msg_start, len(result))\n"
     ]
    }
   ],
   "source": [
    "#Compute precision, recall, F-measure and support\n",
    "\n",
    "print(classification_report(y_test, y_pred))"
   ]
  },
  {
   "cell_type": "code",
   "execution_count": 144,
   "id": "1bc6330c",
   "metadata": {},
   "outputs": [
    {
     "data": {
      "image/png": "[encoded data removed]",
      "text/plain": [
       "<Figure size 640x480 with 1 Axes>"
      ]
     },
     "metadata": {},
     "output_type": "display_data"
    }
   ],
   "source": [
    "#ROC curve\n",
    "logit_roc_auc = roc_auc_score(y_test, logreg.predict(X_test))\n",
    "fpr, tpr, thresholds = roc_curve(y_test, logreg.predict_proba(X_test)[:,1])\n",
    "plt.figure()\n",
    "plt.plot(fpr, tpr, label='Logistic Regression (area = %0.2f)' % logit_roc_auc)\n",
    "plt.plot([0, 1], [0, 1],'r--')\n",
    "plt.xlim([0.0, 1.0])\n",
    "plt.ylim([0.0, 1.05])\n",
    "plt.xlabel('False Positive Rate')\n",
    "plt.ylabel('True Positive Rate')\n",
    "plt.title('ROC Curve')\n",
    "plt.legend(loc=\"lower right\")\n",
    "plt.savefig('Log_ROC')\n",
    "plt.show()"
   ]
  },
  {
   "cell_type": "markdown",
   "id": "5e5fe1dd",
   "metadata": {},
   "source": [
    "The receiver operating characteristic (ROC) curve is another common tool used with binary classifiers. The dotted line represents the ROC curve of a purely random classifier; a good classifier stays as far away from that line as possible (toward the top-left corner)."
   ]
  },
  {
   "cell_type": "code",
   "execution_count": null,
   "id": "28c8174b",
   "metadata": {},
   "outputs": [],
   "source": []
  }
 ],
 "metadata": {
  "kernelspec": {
   "display_name": "Python 3 (ipykernel)",
   "language": "python",
   "name": "python3"
  },
  "language_info": {
   "codemirror_mode": {
    "name": "ipython",
    "version": 3
   },
   "file_extension": ".py",
   "mimetype": "text/x-python",
   "name": "python",
   "nbconvert_exporter": "python",
   "pygments_lexer": "ipython3",
   "version": "3.9.13"
  }
 },
 "nbformat": 4,
 "nbformat_minor": 5
}
